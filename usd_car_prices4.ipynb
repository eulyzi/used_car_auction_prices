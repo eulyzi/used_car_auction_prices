{
 "cells": [
  {
   "cell_type": "markdown",
   "metadata": {},
   "source": [
    "# Selling a used car: Timing and Price"
   ]
  },
  {
   "cell_type": "markdown",
   "metadata": {},
   "source": [
    "## Business Understanding\n",
    "\n",
    "Nowadays cars have been a necessity to a family. People buy a car, drive it for several years and sold it for a new one or get it totaled eventually. If you want to sell a used car, you are on the entrance of the used car market. You may clean your car, ask specialists to make a valuation and sell it online or not.\n",
    "\n",
    "Before the owner ready to sold a used car, a fair price is most important to both the seller and buyer. Also, I have interested in 3 questions: \n",
    "> 1. Timing: When do people sell a car?\n",
    "> 2. Price Valuation: Should the valuation made by specialists be a fair price?\n",
    "> 3. Price Predication: How do we estimate the valuation of a car without the help of specialists?"
   ]
  },
  {
   "cell_type": "markdown",
   "metadata": {},
   "source": [
    "## Data Understanding\n",
    "To answer those questions above, a used car trading deal dataset is needed. The dataset should contain `basic information of cars`,`valuations of cars` and `final trading price`.\n",
    "\n",
    "Fortunately, we can learn from market deals to find some insights about selling a car. Recently a dataset named “Used Car Auction Prices” on Kaggle has provided that information. This dataset which was scraped from the outside internet sources contains 559k deals in 2014–2015. Features of the dataset include model, interior, color, vin, model year, mmr and selling price.\n",
    "\n",
    "### Take a Look at the Dataset"
   ]
  },
  {
   "cell_type": "code",
   "execution_count": 1,
   "metadata": {},
   "outputs": [],
   "source": [
    "import pandas as pd\n",
    "import numpy as np\n",
    "import re\n",
    "\n",
    "import matplotlib.pyplot as plt\n",
    "import seaborn as sns\n",
    "import plotly.express as px\n",
    "\n",
    "from sklearn.linear_model import LinearRegression\n",
    "from sklearn.model_selection import train_test_split\n",
    "from sklearn.metrics import r2_score,accuracy_score\n",
    "from sklearn.ensemble import RandomForestRegressor\n",
    "import optuna\n",
    "import lightgbm as lgb  "
   ]
  },
  {
   "cell_type": "code",
   "execution_count": 2,
   "metadata": {},
   "outputs": [
    {
     "name": "stderr",
     "output_type": "stream",
     "text": [
      "b'Skipping line 408163: expected 16 fields, saw 17\\nSkipping line 417837: expected 16 fields, saw 17\\nSkipping line 421291: expected 16 fields, saw 17\\nSkipping line 424163: expected 16 fields, saw 17\\n'\n",
      "b'Skipping line 427042: expected 16 fields, saw 17\\nSkipping line 427045: expected 16 fields, saw 17\\nSkipping line 434426: expected 16 fields, saw 17\\nSkipping line 444503: expected 16 fields, saw 17\\nSkipping line 453796: expected 16 fields, saw 17\\n'\n",
      "b'Skipping line 461599: expected 16 fields, saw 17\\nSkipping line 461614: expected 16 fields, saw 17\\n'\n",
      "b'Skipping line 492486: expected 16 fields, saw 17\\nSkipping line 497010: expected 16 fields, saw 17\\nSkipping line 497013: expected 16 fields, saw 17\\nSkipping line 499085: expected 16 fields, saw 17\\nSkipping line 501457: expected 16 fields, saw 17\\nSkipping line 505301: expected 16 fields, saw 17\\nSkipping line 505308: expected 16 fields, saw 17\\nSkipping line 520463: expected 16 fields, saw 17\\n'\n",
      "b'Skipping line 528998: expected 16 fields, saw 17\\nSkipping line 529011: expected 16 fields, saw 17\\nSkipping line 529015: expected 16 fields, saw 17\\nSkipping line 529624: expected 16 fields, saw 17\\nSkipping line 548786: expected 16 fields, saw 17\\nSkipping line 551224: expected 16 fields, saw 17\\nSkipping line 554712: expected 16 fields, saw 17\\n'\n"
     ]
    }
   ],
   "source": [
    "df = pd.read_csv('datasets/project_car_prices.zip',error_bad_lines=False,warn_bad_lines=True)"
   ]
  },
  {
   "cell_type": "code",
   "execution_count": 3,
   "metadata": {},
   "outputs": [
    {
     "data": {
      "text/html": [
       "<div>\n",
       "<style scoped>\n",
       "    .dataframe tbody tr th:only-of-type {\n",
       "        vertical-align: middle;\n",
       "    }\n",
       "\n",
       "    .dataframe tbody tr th {\n",
       "        vertical-align: top;\n",
       "    }\n",
       "\n",
       "    .dataframe thead th {\n",
       "        text-align: right;\n",
       "    }\n",
       "</style>\n",
       "<table border=\"1\" class=\"dataframe\">\n",
       "  <thead>\n",
       "    <tr style=\"text-align: right;\">\n",
       "      <th></th>\n",
       "      <th>year</th>\n",
       "      <th>make</th>\n",
       "      <th>model</th>\n",
       "      <th>trim</th>\n",
       "      <th>body</th>\n",
       "      <th>transmission</th>\n",
       "      <th>vin</th>\n",
       "      <th>state</th>\n",
       "      <th>condition</th>\n",
       "      <th>odometer</th>\n",
       "      <th>color</th>\n",
       "      <th>interior</th>\n",
       "      <th>seller</th>\n",
       "      <th>mmr</th>\n",
       "      <th>sellingprice</th>\n",
       "      <th>saledate</th>\n",
       "    </tr>\n",
       "  </thead>\n",
       "  <tbody>\n",
       "    <tr>\n",
       "      <th>0</th>\n",
       "      <td>2015</td>\n",
       "      <td>Kia</td>\n",
       "      <td>Sorento</td>\n",
       "      <td>LX</td>\n",
       "      <td>SUV</td>\n",
       "      <td>automatic</td>\n",
       "      <td>5xyktca69fg566472</td>\n",
       "      <td>ca</td>\n",
       "      <td>5.0</td>\n",
       "      <td>16639.0</td>\n",
       "      <td>white</td>\n",
       "      <td>black</td>\n",
       "      <td>kia motors america, inc</td>\n",
       "      <td>20500</td>\n",
       "      <td>21500</td>\n",
       "      <td>Tue Dec 16 2014 12:30:00 GMT-0800 (PST)</td>\n",
       "    </tr>\n",
       "    <tr>\n",
       "      <th>1</th>\n",
       "      <td>2015</td>\n",
       "      <td>Kia</td>\n",
       "      <td>Sorento</td>\n",
       "      <td>LX</td>\n",
       "      <td>SUV</td>\n",
       "      <td>automatic</td>\n",
       "      <td>5xyktca69fg561319</td>\n",
       "      <td>ca</td>\n",
       "      <td>5.0</td>\n",
       "      <td>9393.0</td>\n",
       "      <td>white</td>\n",
       "      <td>beige</td>\n",
       "      <td>kia motors america, inc</td>\n",
       "      <td>20800</td>\n",
       "      <td>21500</td>\n",
       "      <td>Tue Dec 16 2014 12:30:00 GMT-0800 (PST)</td>\n",
       "    </tr>\n",
       "    <tr>\n",
       "      <th>2</th>\n",
       "      <td>2014</td>\n",
       "      <td>BMW</td>\n",
       "      <td>3 Series</td>\n",
       "      <td>328i SULEV</td>\n",
       "      <td>Sedan</td>\n",
       "      <td>automatic</td>\n",
       "      <td>wba3c1c51ek116351</td>\n",
       "      <td>ca</td>\n",
       "      <td>4.5</td>\n",
       "      <td>1331.0</td>\n",
       "      <td>gray</td>\n",
       "      <td>black</td>\n",
       "      <td>financial services remarketing (lease)</td>\n",
       "      <td>31900</td>\n",
       "      <td>30000</td>\n",
       "      <td>Thu Jan 15 2015 04:30:00 GMT-0800 (PST)</td>\n",
       "    </tr>\n",
       "  </tbody>\n",
       "</table>\n",
       "</div>"
      ],
      "text/plain": [
       "   year make     model        trim   body transmission                vin  \\\n",
       "0  2015  Kia   Sorento          LX    SUV    automatic  5xyktca69fg566472   \n",
       "1  2015  Kia   Sorento          LX    SUV    automatic  5xyktca69fg561319   \n",
       "2  2014  BMW  3 Series  328i SULEV  Sedan    automatic  wba3c1c51ek116351   \n",
       "\n",
       "  state  condition  odometer  color interior  \\\n",
       "0    ca        5.0   16639.0  white    black   \n",
       "1    ca        5.0    9393.0  white    beige   \n",
       "2    ca        4.5    1331.0   gray    black   \n",
       "\n",
       "                                   seller    mmr  sellingprice  \\\n",
       "0                 kia motors america, inc  20500         21500   \n",
       "1                 kia motors america, inc  20800         21500   \n",
       "2  financial services remarketing (lease)  31900         30000   \n",
       "\n",
       "                                  saledate  \n",
       "0  Tue Dec 16 2014 12:30:00 GMT-0800 (PST)  \n",
       "1  Tue Dec 16 2014 12:30:00 GMT-0800 (PST)  \n",
       "2  Thu Jan 15 2015 04:30:00 GMT-0800 (PST)  "
      ]
     },
     "execution_count": 3,
     "metadata": {},
     "output_type": "execute_result"
    }
   ],
   "source": [
    "df.head(3)"
   ]
  },
  {
   "cell_type": "code",
   "execution_count": 4,
   "metadata": {},
   "outputs": [
    {
     "data": {
      "text/plain": [
       "(558811, 16)"
      ]
     },
     "execution_count": 4,
     "metadata": {},
     "output_type": "execute_result"
    }
   ],
   "source": [
    "df.shape"
   ]
  },
  {
   "cell_type": "markdown",
   "metadata": {},
   "source": [
    "The dataset has 559k rows with 16 features."
   ]
  },
  {
   "cell_type": "markdown",
   "metadata": {},
   "source": [
    "### Meaning of Special Features\n",
    "\n",
    "Most of the features are easy to understand, but there are some special."
   ]
  },
  {
   "attachments": {
    "f0f6c2db-a67b-4292-b823-6d3138fc83a2.png": {
     "image/png": "[encoded data removed]"
    }
   },
   "cell_type": "markdown",
   "metadata": {},
   "source": [
    "#### vin: Vehicle identification number\n",
    "\n",
    "The first special feature is `vin`. From `wikipedia`, `vin` means ***Vehicle identification number***.\n",
    "> A vehicle identification number (VIN) (also called a chassis number or frame number) is a unique code, including a serial number, used by the automotive industry to identify individual motor vehicles, towed vehicles, motorcycles, scooters and mopeds, as defined in ISO 3779 (content and structure) and ISO 4030 (location and attachment).\n",
    "\n",
    ">  A `vin` has 17 letters. Components of `vin` are `World manufacturer identifier`(1-3),`Vehicle descriptor section`(4-9) and\t`Vehicle identifier section`(10-17).\n",
    "\n",
    "> Country or region codes can be distinguished by the first 2 letters of `World manufacturer identifier`.\n",
    "\n",
    "> https://en.wikipedia.org/wiki/Vehicle_identification_number#Components\n",
    "\n",
    "So we can **add a feature `made_country` with the first 2 letters of `vin`**.\n",
    "\n",
    "\n",
    "We can check the info of a vin by https://driving-tests.org/vin-decoder/. If we query the first vin of the data `5xyktca69fg566472`,we can get a result like :\n",
    "\n",
    "![vin_example.png](attachment:f0f6c2db-a67b-4292-b823-6d3138fc83a2.png)"
   ]
  },
  {
   "cell_type": "markdown",
   "metadata": {},
   "source": [
    "#### mmr: Manheim Market Report"
   ]
  },
  {
   "cell_type": "code",
   "execution_count": 5,
   "metadata": {},
   "outputs": [
    {
     "data": {
      "image/png": "[encoded data removed]",
      "text/plain": [
       "<Figure size 432x288 with 1 Axes>"
      ]
     },
     "metadata": {
      "needs_background": "light"
     },
     "output_type": "display_data"
    }
   ],
   "source": [
    "plt.scatter(df['mmr'],df['sellingprice'])\n",
    "plt.title('Relation between mmr and sellingprice')\n",
    "plt.xlabel('mmr')\n",
    "plt.ylabel('sellingprice')\n",
    "plt.show()"
   ]
  },
  {
   "cell_type": "markdown",
   "metadata": {},
   "source": [
    "What really intersting is that `mmr` and `sellingprice` are so highly correlated. I did not find an explanation in `wikipedia`. But with Google I found this https://www.autoauctionmall.com/learning-center/what-does-mmr-mean/. \n",
    "> MMR in the car business stands for Manheim Market Report, an indicator of wholesale prices.\n",
    "\n",
    "> Manheim is a company established in 1945 as a car auction company. It has grown to a very reputable company and its MMR is a baseline tool for wholesale car price determination. They base their price calculations on over 10 million transaction over the past 13-month period to .\n",
    "\n",
    "I think that explained  why `mmr` and `sellingprice` are so close to each other in the figure. `mmr` is a valuation made by the Manheim company.The company should make full use of all the infomation of car like `model`,`odometer` and so on.\n",
    "\n",
    "So it is **not** a good idea to take `mmr` as a explanatory feature."
   ]
  },
  {
   "cell_type": "markdown",
   "metadata": {},
   "source": [
    "#### odometer: measuring the distance traveled by a vehicle"
   ]
  },
  {
   "cell_type": "code",
   "execution_count": 6,
   "metadata": {},
   "outputs": [
    {
     "data": {
      "text/plain": [
       "68323.19579679874"
      ]
     },
     "execution_count": 6,
     "metadata": {},
     "output_type": "execute_result"
    }
   ],
   "source": [
    "df['odometer'].mean()"
   ]
  },
  {
   "cell_type": "code",
   "execution_count": 7,
   "metadata": {},
   "outputs": [
    {
     "data": {
      "image/png": "[encoded data removed]",
      "text/plain": [
       "<Figure size 432x288 with 1 Axes>"
      ]
     },
     "metadata": {
      "needs_background": "light"
     },
     "output_type": "display_data"
    }
   ],
   "source": [
    "plt.hist(df['odometer']/1000,bins=50)\n",
    "plt.title('Frequency Distribution of odometer')\n",
    "plt.xlabel('odometer')\n",
    "plt.ylabel('Frequency')\n",
    "plt.show()"
   ]
  },
  {
   "cell_type": "markdown",
   "metadata": {},
   "source": [
    "`odometer` means:\n",
    "> An odometer or odograph is an instrument used for measuring the distance traveled by a vehicle, such as a bicycle or car. The device may be electronic, mechanical, or a combination of the two (electromechanical). The noun derives from ancient Greek ὁδόμετρον, hodómetron, from ὁδός, hodós (\"path\" or \"gateway\") and μέτρον, métron (\"measure\"). Early forms of the odometer existed in the ancient Greco-Roman world as well as in ancient China. In countries using Imperial units or US customary units it is sometimes called a mileometer or milometer, the former name especially being prevalent in the United Kingdom and among members of the Commonwealth.\n",
    "> https://en.wikipedia.org/wiki/Odometer\n",
    "\n",
    "From the figure above,the unit of measurement may be `kilometers`. If that is true, the mean odometer of used cars is 68000 kilometers. And most of them are within 200000 kilometers."
   ]
  },
  {
   "cell_type": "markdown",
   "metadata": {},
   "source": [
    "#### year: vehicle's model year\n",
    "\n",
    "After checking several vins, the `year` equals vehicle's model year."
   ]
  },
  {
   "cell_type": "code",
   "execution_count": 8,
   "metadata": {},
   "outputs": [],
   "source": [
    "# change `mmr` to `valuation` and `year` to `model_year` for better understand\n",
    "df=df.rename(columns={'mmr':'valuation','year':'model_year'})"
   ]
  },
  {
   "cell_type": "markdown",
   "metadata": {},
   "source": [
    "##  Data Preparation"
   ]
  },
  {
   "cell_type": "markdown",
   "metadata": {},
   "source": [
    "### Overview of the Data\n"
   ]
  },
  {
   "cell_type": "code",
   "execution_count": 9,
   "metadata": {
    "scrolled": true
   },
   "outputs": [
    {
     "data": {
      "text/html": [
       "<div>\n",
       "<style scoped>\n",
       "    .dataframe tbody tr th:only-of-type {\n",
       "        vertical-align: middle;\n",
       "    }\n",
       "\n",
       "    .dataframe tbody tr th {\n",
       "        vertical-align: top;\n",
       "    }\n",
       "\n",
       "    .dataframe thead th {\n",
       "        text-align: right;\n",
       "    }\n",
       "</style>\n",
       "<table border=\"1\" class=\"dataframe\">\n",
       "  <thead>\n",
       "    <tr style=\"text-align: right;\">\n",
       "      <th></th>\n",
       "      <th>transmission</th>\n",
       "      <th>body</th>\n",
       "      <th>condition</th>\n",
       "      <th>trim</th>\n",
       "      <th>model</th>\n",
       "      <th>make</th>\n",
       "      <th>color</th>\n",
       "      <th>interior</th>\n",
       "      <th>odometer</th>\n",
       "      <th>model_year</th>\n",
       "      <th>vin</th>\n",
       "      <th>state</th>\n",
       "      <th>seller</th>\n",
       "      <th>valuation</th>\n",
       "      <th>sellingprice</th>\n",
       "      <th>saledate</th>\n",
       "    </tr>\n",
       "  </thead>\n",
       "  <tbody>\n",
       "    <tr>\n",
       "      <th>null_ratio</th>\n",
       "      <td>0.11695</td>\n",
       "      <td>0.023613</td>\n",
       "      <td>0.021106</td>\n",
       "      <td>0.01906</td>\n",
       "      <td>0.018609</td>\n",
       "      <td>0.018434</td>\n",
       "      <td>0.00134</td>\n",
       "      <td>0.00134</td>\n",
       "      <td>0.000168</td>\n",
       "      <td>0.0</td>\n",
       "      <td>0.0</td>\n",
       "      <td>0.0</td>\n",
       "      <td>0.0</td>\n",
       "      <td>0.0</td>\n",
       "      <td>0.0</td>\n",
       "      <td>0.0</td>\n",
       "    </tr>\n",
       "    <tr>\n",
       "      <th>dtypes</th>\n",
       "      <td>object</td>\n",
       "      <td>object</td>\n",
       "      <td>float64</td>\n",
       "      <td>object</td>\n",
       "      <td>object</td>\n",
       "      <td>object</td>\n",
       "      <td>object</td>\n",
       "      <td>object</td>\n",
       "      <td>float64</td>\n",
       "      <td>int64</td>\n",
       "      <td>object</td>\n",
       "      <td>object</td>\n",
       "      <td>object</td>\n",
       "      <td>int64</td>\n",
       "      <td>int64</td>\n",
       "      <td>object</td>\n",
       "    </tr>\n",
       "    <tr>\n",
       "      <th>uique_counts</th>\n",
       "      <td>2</td>\n",
       "      <td>86</td>\n",
       "      <td>41</td>\n",
       "      <td>1975</td>\n",
       "      <td>973</td>\n",
       "      <td>96</td>\n",
       "      <td>20</td>\n",
       "      <td>17</td>\n",
       "      <td>172277</td>\n",
       "      <td>34</td>\n",
       "      <td>550296</td>\n",
       "      <td>38</td>\n",
       "      <td>14264</td>\n",
       "      <td>1101</td>\n",
       "      <td>1887</td>\n",
       "      <td>3745</td>\n",
       "    </tr>\n",
       "  </tbody>\n",
       "</table>\n",
       "</div>"
      ],
      "text/plain": [
       "             transmission      body condition     trim     model      make  \\\n",
       "null_ratio        0.11695  0.023613  0.021106  0.01906  0.018609  0.018434   \n",
       "dtypes             object    object   float64   object    object    object   \n",
       "uique_counts            2        86        41     1975       973        96   \n",
       "\n",
       "                color interior  odometer model_year     vin   state  seller  \\\n",
       "null_ratio    0.00134  0.00134  0.000168        0.0     0.0     0.0     0.0   \n",
       "dtypes         object   object   float64      int64  object  object  object   \n",
       "uique_counts       20       17    172277         34  550296      38   14264   \n",
       "\n",
       "             valuation sellingprice saledate  \n",
       "null_ratio         0.0          0.0      0.0  \n",
       "dtypes           int64        int64   object  \n",
       "uique_counts      1101         1887     3745  "
      ]
     },
     "execution_count": 9,
     "metadata": {},
     "output_type": "execute_result"
    }
   ],
   "source": [
    "pd.DataFrame([df.isnull().mean(),df.dtypes,df.nunique()],index=['null_ratio','dtypes','uique_counts'])\\\n",
    "    .sort_values(by=['null_ratio'],axis=1,ascending=False)"
   ]
  },
  {
   "cell_type": "code",
   "execution_count": 10,
   "metadata": {},
   "outputs": [
    {
     "data": {
      "text/plain": [
       "(558811, 16)"
      ]
     },
     "execution_count": 10,
     "metadata": {},
     "output_type": "execute_result"
    }
   ],
   "source": [
    "df.shape"
   ]
  },
  {
   "cell_type": "markdown",
   "metadata": {},
   "source": [
    "### Handle Missing Values\n",
    "`transmission` has the most ratio of `NULL` 12%. The fraction of values missing in other columns is less than 3%.Since the whole share of `NULL` feature is small. We can fill NA with 'unknown' with in `transmission` feature and remove NA in all other columns since the fraction is small.\n"
   ]
  },
  {
   "cell_type": "code",
   "execution_count": 11,
   "metadata": {},
   "outputs": [],
   "source": [
    "df_clean = df.copy()\n",
    "df_clean['transmission']=df_clean['transmission'].fillna('unknown')\n",
    "df_clean=df_clean.dropna(axis=0)"
   ]
  },
  {
   "cell_type": "markdown",
   "metadata": {},
   "source": [
    "### Handle Duplicated Rows\n",
    "The dataset has no duplicated rows"
   ]
  },
  {
   "cell_type": "code",
   "execution_count": 12,
   "metadata": {},
   "outputs": [
    {
     "data": {
      "text/plain": [
       "0"
      ]
     },
     "execution_count": 12,
     "metadata": {},
     "output_type": "execute_result"
    }
   ],
   "source": [
    "df_clean.duplicated().sum()"
   ]
  },
  {
   "cell_type": "markdown",
   "metadata": {},
   "source": [
    "### Add Feature \n",
    "From the chapter `vin: Vehicle identification number`\n",
    "> Country or region codes can be distinguished by the first 2 letters of World manufacturer identifier.\n",
    ">\n",
    "> So we can **add a feature `made_country` with the first 2 letters of `vin`**."
   ]
  },
  {
   "cell_type": "code",
   "execution_count": 13,
   "metadata": {},
   "outputs": [],
   "source": [
    "df_clean['made_country']=df_clean['vin'].map(lambda x:x[:2])"
   ]
  },
  {
   "cell_type": "markdown",
   "metadata": {},
   "source": [
    "To get a deeper insight of trading datetime, it may be useful to extract datetime attributes of `saledate` like `year`,`quarter` etc."
   ]
  },
  {
   "cell_type": "code",
   "execution_count": 14,
   "metadata": {},
   "outputs": [],
   "source": [
    "\n",
    "df_clean['sale_datetime'] = pd.to_datetime(df_clean['saledate'],utc=True)\n"
   ]
  },
  {
   "cell_type": "code",
   "execution_count": 15,
   "metadata": {},
   "outputs": [],
   "source": [
    "df_clean['sale_year']=df_clean['sale_datetime'].dt.year.astype('int32')\n",
    "df_clean['sale_quarter']=df_clean['sale_datetime'].dt.quarter.astype('int8')\n",
    "df_clean['sale_month']=df_clean['sale_datetime'].dt.month.astype('int8')\n",
    "df_clean['sale_dayofweek']=df_clean['sale_datetime'].dt.day_of_week.astype('int8')\n",
    "df_clean['sale_day']=df_clean['sale_datetime'].dt.day.astype('int8')\n",
    "df_clean['sale_hour']= df_clean['sale_datetime'].dt.hour.astype('int8')"
   ]
  },
  {
   "cell_type": "markdown",
   "metadata": {},
   "source": [
    "We have `model_year` and `sale_year`, so we can extract a feature `used_year` which indicates how many years the car had been used."
   ]
  },
  {
   "cell_type": "code",
   "execution_count": 16,
   "metadata": {},
   "outputs": [],
   "source": [
    "df_clean['used_year']=df_clean['sale_year']-df_clean['model_year']"
   ]
  },
  {
   "cell_type": "markdown",
   "metadata": {},
   "source": [
    "To check the difference between `sellingprice` and `valuation`, we can add a column `sale_delta`."
   ]
  },
  {
   "cell_type": "code",
   "execution_count": 17,
   "metadata": {},
   "outputs": [],
   "source": [
    "df_clean['sale_delta'] = df_clean['sellingprice']-df_clean['valuation']"
   ]
  },
  {
   "cell_type": "markdown",
   "metadata": {},
   "source": [
    "### Data Lowercase\n",
    "Transform `body` feature into lowercase."
   ]
  },
  {
   "cell_type": "code",
   "execution_count": 18,
   "metadata": {},
   "outputs": [],
   "source": [
    "df_clean['body']=df_clean['body'].map(lambda x:str(x).lower())"
   ]
  },
  {
   "cell_type": "markdown",
   "metadata": {},
   "source": [
    "### Data Cleaned Overview"
   ]
  },
  {
   "cell_type": "code",
   "execution_count": 19,
   "metadata": {},
   "outputs": [
    {
     "data": {
      "text/html": [
       "<div>\n",
       "<style scoped>\n",
       "    .dataframe tbody tr th:only-of-type {\n",
       "        vertical-align: middle;\n",
       "    }\n",
       "\n",
       "    .dataframe tbody tr th {\n",
       "        vertical-align: top;\n",
       "    }\n",
       "\n",
       "    .dataframe thead th {\n",
       "        text-align: right;\n",
       "    }\n",
       "</style>\n",
       "<table border=\"1\" class=\"dataframe\">\n",
       "  <thead>\n",
       "    <tr style=\"text-align: right;\">\n",
       "      <th></th>\n",
       "      <th>model_year</th>\n",
       "      <th>make</th>\n",
       "      <th>used_year</th>\n",
       "      <th>sale_hour</th>\n",
       "      <th>sale_day</th>\n",
       "      <th>sale_dayofweek</th>\n",
       "      <th>sale_month</th>\n",
       "      <th>sale_quarter</th>\n",
       "      <th>sale_year</th>\n",
       "      <th>sale_datetime</th>\n",
       "      <th>...</th>\n",
       "      <th>color</th>\n",
       "      <th>odometer</th>\n",
       "      <th>condition</th>\n",
       "      <th>state</th>\n",
       "      <th>vin</th>\n",
       "      <th>transmission</th>\n",
       "      <th>body</th>\n",
       "      <th>trim</th>\n",
       "      <th>model</th>\n",
       "      <th>sale_delta</th>\n",
       "    </tr>\n",
       "  </thead>\n",
       "  <tbody>\n",
       "    <tr>\n",
       "      <th>null_ratio</th>\n",
       "      <td>0.0</td>\n",
       "      <td>0.0</td>\n",
       "      <td>0.0</td>\n",
       "      <td>0.0</td>\n",
       "      <td>0.0</td>\n",
       "      <td>0.0</td>\n",
       "      <td>0.0</td>\n",
       "      <td>0.0</td>\n",
       "      <td>0.0</td>\n",
       "      <td>0.0</td>\n",
       "      <td>...</td>\n",
       "      <td>0.0</td>\n",
       "      <td>0.0</td>\n",
       "      <td>0.0</td>\n",
       "      <td>0.0</td>\n",
       "      <td>0.0</td>\n",
       "      <td>0.0</td>\n",
       "      <td>0.0</td>\n",
       "      <td>0.0</td>\n",
       "      <td>0.0</td>\n",
       "      <td>0.0</td>\n",
       "    </tr>\n",
       "    <tr>\n",
       "      <th>dtypes</th>\n",
       "      <td>int64</td>\n",
       "      <td>object</td>\n",
       "      <td>int64</td>\n",
       "      <td>int8</td>\n",
       "      <td>int8</td>\n",
       "      <td>int8</td>\n",
       "      <td>int8</td>\n",
       "      <td>int8</td>\n",
       "      <td>int32</td>\n",
       "      <td>datetime64[ns, UTC]</td>\n",
       "      <td>...</td>\n",
       "      <td>object</td>\n",
       "      <td>float64</td>\n",
       "      <td>float64</td>\n",
       "      <td>object</td>\n",
       "      <td>object</td>\n",
       "      <td>object</td>\n",
       "      <td>object</td>\n",
       "      <td>object</td>\n",
       "      <td>object</td>\n",
       "      <td>int64</td>\n",
       "    </tr>\n",
       "    <tr>\n",
       "      <th>uique_counts</th>\n",
       "      <td>26</td>\n",
       "      <td>53</td>\n",
       "      <td>27</td>\n",
       "      <td>21</td>\n",
       "      <td>31</td>\n",
       "      <td>6</td>\n",
       "      <td>8</td>\n",
       "      <td>4</td>\n",
       "      <td>2</td>\n",
       "      <td>3687</td>\n",
       "      <td>...</td>\n",
       "      <td>20</td>\n",
       "      <td>166557</td>\n",
       "      <td>41</td>\n",
       "      <td>38</td>\n",
       "      <td>525650</td>\n",
       "      <td>3</td>\n",
       "      <td>45</td>\n",
       "      <td>1523</td>\n",
       "      <td>772</td>\n",
       "      <td>1428</td>\n",
       "    </tr>\n",
       "  </tbody>\n",
       "</table>\n",
       "<p>3 rows × 26 columns</p>\n",
       "</div>"
      ],
      "text/plain": [
       "             model_year    make used_year sale_hour sale_day sale_dayofweek  \\\n",
       "null_ratio          0.0     0.0       0.0       0.0      0.0            0.0   \n",
       "dtypes            int64  object     int64      int8     int8           int8   \n",
       "uique_counts         26      53        27        21       31              6   \n",
       "\n",
       "             sale_month sale_quarter sale_year        sale_datetime  ...  \\\n",
       "null_ratio          0.0          0.0       0.0                  0.0  ...   \n",
       "dtypes             int8         int8     int32  datetime64[ns, UTC]  ...   \n",
       "uique_counts          8            4         2                 3687  ...   \n",
       "\n",
       "               color odometer condition   state     vin transmission    body  \\\n",
       "null_ratio       0.0      0.0       0.0     0.0     0.0          0.0     0.0   \n",
       "dtypes        object  float64   float64  object  object       object  object   \n",
       "uique_counts      20   166557        41      38  525650            3      45   \n",
       "\n",
       "                trim   model sale_delta  \n",
       "null_ratio       0.0     0.0        0.0  \n",
       "dtypes        object  object      int64  \n",
       "uique_counts    1523     772       1428  \n",
       "\n",
       "[3 rows x 26 columns]"
      ]
     },
     "execution_count": 19,
     "metadata": {},
     "output_type": "execute_result"
    }
   ],
   "source": [
    "pd.DataFrame([df_clean.isnull().mean(),df_clean.dtypes,df_clean.nunique()],index=['null_ratio','dtypes','uique_counts'])\\\n",
    "    .sort_values(by=['null_ratio'],axis=1,ascending=False)"
   ]
  },
  {
   "cell_type": "code",
   "execution_count": 20,
   "metadata": {},
   "outputs": [
    {
     "data": {
      "text/plain": [
       "(533660, 26)"
      ]
     },
     "execution_count": 20,
     "metadata": {},
     "output_type": "execute_result"
    }
   ],
   "source": [
    "df_clean.shape"
   ]
  },
  {
   "cell_type": "markdown",
   "metadata": {},
   "source": [
    "The dataset has no missing value now, feature number increases from 16 to 26 and rows decreses from 559k to 534k. "
   ]
  },
  {
   "cell_type": "markdown",
   "metadata": {},
   "source": [
    "### 1. Timing: When do people sell a car?\n",
    "\n",
    "We can analyze that question  from `odometer` ,`condition` and `used_year` features."
   ]
  },
  {
   "cell_type": "code",
   "execution_count": 21,
   "metadata": {},
   "outputs": [
    {
     "data": {
      "image/png": "[encoded data removed]",
      "text/plain": [
       "<Figure size 432x288 with 1 Axes>"
      ]
     },
     "metadata": {
      "needs_background": "light"
     },
     "output_type": "display_data"
    }
   ],
   "source": [
    "plt.hist(df_clean['odometer']/1000,bins=50)\n",
    "plt.title('Frequency Distribution of odometer')\n",
    "plt.xlabel('odometer')\n",
    "plt.ylabel('Frequency')\n",
    "plt.show()"
   ]
  },
  {
   "cell_type": "code",
   "execution_count": 22,
   "metadata": {},
   "outputs": [
    {
     "data": {
      "text/plain": [
       "0.25     27746.75\n",
       "0.50     50145.00\n",
       "0.75     95813.00\n",
       "0.90    139065.00\n",
       "0.98    198764.82\n",
       "Name: odometer, dtype: float64"
      ]
     },
     "execution_count": 22,
     "metadata": {},
     "output_type": "execute_result"
    }
   ],
   "source": [
    "df_clean['odometer'].quantile([.25, .5, .75,.90,.98])"
   ]
  },
  {
   "cell_type": "markdown",
   "metadata": {},
   "source": [
    "From the odometer we can find that most of cars were sold with odometer less than 96,000km (75% quantile), 90% quantile 140,000km and 98% quantile 200,000km."
   ]
  },
  {
   "cell_type": "code",
   "execution_count": 23,
   "metadata": {},
   "outputs": [
    {
     "data": {
      "image/png": "[encoded data removed]",
      "text/plain": [
       "<Figure size 432x288 with 1 Axes>"
      ]
     },
     "metadata": {
      "needs_background": "light"
     },
     "output_type": "display_data"
    }
   ],
   "source": [
    "used_year_count =df_clean['used_year'].value_counts()\n",
    "plt.bar(used_year_count.index,used_year_count.values)\n",
    "plt.title('Count Distribution of used_year')\n",
    "plt.xlabel('used_year')\n",
    "plt.ylabel('Count')\n",
    "plt.show()"
   ]
  },
  {
   "cell_type": "code",
   "execution_count": 24,
   "metadata": {},
   "outputs": [
    {
     "data": {
      "text/plain": [
       "0.25     2.0\n",
       "0.50     3.0\n",
       "0.75     7.0\n",
       "0.90    10.0\n",
       "0.98    15.0\n",
       "Name: used_year, dtype: float64"
      ]
     },
     "execution_count": 24,
     "metadata": {},
     "output_type": "execute_result"
    }
   ],
   "source": [
    "df_clean['used_year'].quantile([.25, .5, .75,0.9,.98])"
   ]
  },
  {
   "cell_type": "markdown",
   "metadata": {},
   "source": [
    "Most of the cars has used less than 7 years (75% quantile), 90% quantile 10 years when were sold. From 7 years the longer the car used, the number of deals is less which means the harder the car can be sold."
   ]
  },
  {
   "cell_type": "code",
   "execution_count": 25,
   "metadata": {},
   "outputs": [
    {
     "data": {
      "image/png": "[encoded data removed]",
      "text/plain": [
       "<Figure size 432x288 with 1 Axes>"
      ]
     },
     "metadata": {
      "needs_background": "light"
     },
     "output_type": "display_data"
    }
   ],
   "source": [
    "plt.hist(df_clean['condition'],bins=50)\n",
    "plt.title('Frequency Distribution of condition')\n",
    "plt.xlabel('condition')\n",
    "plt.ylabel('Frequency')\n",
    "plt.show()"
   ]
  },
  {
   "cell_type": "markdown",
   "metadata": {},
   "source": [
    "This figure shows an interesting result that the condition distribution did not affect the cars sold only if the condition was above 2.0"
   ]
  },
  {
   "cell_type": "markdown",
   "metadata": {},
   "source": [
    "To sum up odometer, used year and condition, it’s better to sell a car when travels below 96,000km as earlier as possible in 10 years, regardless of condition."
   ]
  },
  {
   "cell_type": "markdown",
   "metadata": {},
   "source": [
    "### 2. Price Valuation: Should the valuation made by specialists be a fair price?\n",
    "\n",
    "It's a good idea to analyze the relation between `sellingprice` and `valuation`. And I made a LinearRegression between them, and valuation can explain 97% of the sellingprice."
   ]
  },
  {
   "cell_type": "code",
   "execution_count": 26,
   "metadata": {},
   "outputs": [
    {
     "data": {
      "image/png": "[encoded data removed]",
      "text/plain": [
       "<Figure size 432x288 with 1 Axes>"
      ]
     },
     "metadata": {
      "needs_background": "light"
     },
     "output_type": "display_data"
    }
   ],
   "source": [
    "plt.scatter(df_clean['valuation'],df_clean['sellingprice'])\n",
    "plt.title('Relation between sellingprice and valuation')\n",
    "plt.xlabel('valuation')\n",
    "plt.ylabel('sellingprice')\n",
    "plt.show()"
   ]
  },
  {
   "cell_type": "code",
   "execution_count": 27,
   "metadata": {},
   "outputs": [
    {
     "name": "stdout",
     "output_type": "stream",
     "text": [
      "0.9675352890180333\n"
     ]
    }
   ],
   "source": [
    "# simple LinearRegression between `sellingprice` and `valuation`\n",
    "Xa=df['valuation'].values.reshape(-1, 1) \n",
    "ya=df['sellingprice'].values\n",
    "linear_clfa = LinearRegression()\n",
    "linear_clfa.fit(Xa,ya)\n",
    "print(linear_clfa.score(Xa,ya))"
   ]
  },
  {
   "cell_type": "markdown",
   "metadata": {},
   "source": [
    "To go deeper, let's analyze column `sale_delta` which is the difference  between `sellingprice` and `valuation`"
   ]
  },
  {
   "cell_type": "code",
   "execution_count": 28,
   "metadata": {},
   "outputs": [
    {
     "data": {
      "image/png": "[encoded data removed]",
      "text/plain": [
       "<Figure size 432x288 with 1 Axes>"
      ]
     },
     "metadata": {
      "needs_background": "light"
     },
     "output_type": "display_data"
    },
    {
     "data": {
      "image/png": "[encoded data removed]",
      "text/plain": [
       "<Figure size 432x288 with 1 Axes>"
      ]
     },
     "metadata": {
      "needs_background": "light"
     },
     "output_type": "display_data"
    }
   ],
   "source": [
    "plt.scatter(df_clean['model_year'],df_clean['sale_delta'])\n",
    "plt.title('Relation between sale_delta and model_year')\n",
    "plt.xlabel('model_year')\n",
    "plt.ylabel('sale_delta')\n",
    "plt.show()\n",
    "\n",
    "plt.scatter(df_clean['odometer'],df_clean['sale_delta'])\n",
    "plt.title('Relation between sale_delta and odometer')\n",
    "plt.xlabel('odometer')\n",
    "plt.ylabel('sale_delta')\n",
    "plt.show()"
   ]
  },
  {
   "cell_type": "markdown",
   "metadata": {},
   "source": [
    "The variance of `sale_delta` goes up as `model_year` increase and as `odometer` down. The more the car traveled or the longer the car used, the more accurate the prediction is."
   ]
  },
  {
   "cell_type": "code",
   "execution_count": 29,
   "metadata": {},
   "outputs": [
    {
     "data": {
      "text/plain": [
       "-153.43534272757935"
      ]
     },
     "execution_count": 29,
     "metadata": {},
     "output_type": "execute_result"
    }
   ],
   "source": [
    "df_clean['sale_delta'].mean()"
   ]
  },
  {
   "cell_type": "markdown",
   "metadata": {},
   "source": [
    "So, should a seller choose to believe valuation? Yes, and valuation can be a good predict to the final sellingprice only if seller has access to valuation made by specialists."
   ]
  },
  {
   "cell_type": "markdown",
   "metadata": {},
   "source": [
    "`valuation` is  slightly higher than the `sellingprice` on average (153 USD per car)."
   ]
  },
  {
   "cell_type": "markdown",
   "metadata": {},
   "source": [
    "## Data Modeling\n",
    "### 3. Price Predication: How do we estimate the valuation of a car without the help of specialists?\n",
    "To answer the last question `How do we estimate the valuation of a car without the help of specialists?`, a machine learning model is in need."
   ]
  },
  {
   "cell_type": "markdown",
   "metadata": {},
   "source": [
    "### feature selection"
   ]
  },
  {
   "cell_type": "code",
   "execution_count": 30,
   "metadata": {},
   "outputs": [
    {
     "data": {
      "image/png": "[encoded data removed]",
      "text/plain": [
       "<Figure size 504x504 with 2 Axes>"
      ]
     },
     "metadata": {},
     "output_type": "display_data"
    }
   ],
   "source": [
    "heatmap_col=['sellingprice','model_year','condition','odometer','valuation','sale_year']\n",
    "sns.set(rc={'figure.figsize':(7,7)})\n",
    "sns.heatmap(df_clean[heatmap_col].corr(), annot=True, fmt=\".2f\");"
   ]
  },
  {
   "cell_type": "code",
   "execution_count": 31,
   "metadata": {},
   "outputs": [],
   "source": [
    "# choose features and filter `valuation` out since the time we try to predict wihout the help of specialists\n",
    "choosed_cols = ['model_year','condition','odometer','sellingprice',\n",
    "                'make','model','trim','transmission','state','color','interior',\n",
    "                'sale_dayofweek','sale_month','made_country','body']"
   ]
  },
  {
   "cell_type": "code",
   "execution_count": 32,
   "metadata": {},
   "outputs": [],
   "source": [
    "df_feature_selected=df_clean[choosed_cols]"
   ]
  },
  {
   "cell_type": "code",
   "execution_count": 33,
   "metadata": {},
   "outputs": [
    {
     "data": {
      "text/html": [
       "<div>\n",
       "<style scoped>\n",
       "    .dataframe tbody tr th:only-of-type {\n",
       "        vertical-align: middle;\n",
       "    }\n",
       "\n",
       "    .dataframe tbody tr th {\n",
       "        vertical-align: top;\n",
       "    }\n",
       "\n",
       "    .dataframe thead th {\n",
       "        text-align: right;\n",
       "    }\n",
       "</style>\n",
       "<table border=\"1\" class=\"dataframe\">\n",
       "  <thead>\n",
       "    <tr style=\"text-align: right;\">\n",
       "      <th></th>\n",
       "      <th>model_year</th>\n",
       "      <th>condition</th>\n",
       "      <th>odometer</th>\n",
       "      <th>sellingprice</th>\n",
       "      <th>make</th>\n",
       "      <th>model</th>\n",
       "      <th>trim</th>\n",
       "      <th>transmission</th>\n",
       "      <th>state</th>\n",
       "      <th>color</th>\n",
       "      <th>interior</th>\n",
       "      <th>sale_dayofweek</th>\n",
       "      <th>sale_month</th>\n",
       "      <th>made_country</th>\n",
       "      <th>body</th>\n",
       "    </tr>\n",
       "  </thead>\n",
       "  <tbody>\n",
       "    <tr>\n",
       "      <th>null_ratio</th>\n",
       "      <td>0.0</td>\n",
       "      <td>0.0</td>\n",
       "      <td>0.0</td>\n",
       "      <td>0.0</td>\n",
       "      <td>0.0</td>\n",
       "      <td>0.0</td>\n",
       "      <td>0.0</td>\n",
       "      <td>0.0</td>\n",
       "      <td>0.0</td>\n",
       "      <td>0.0</td>\n",
       "      <td>0.0</td>\n",
       "      <td>0.0</td>\n",
       "      <td>0.0</td>\n",
       "      <td>0.0</td>\n",
       "      <td>0.0</td>\n",
       "    </tr>\n",
       "    <tr>\n",
       "      <th>dtypes</th>\n",
       "      <td>int64</td>\n",
       "      <td>float64</td>\n",
       "      <td>float64</td>\n",
       "      <td>int64</td>\n",
       "      <td>object</td>\n",
       "      <td>object</td>\n",
       "      <td>object</td>\n",
       "      <td>object</td>\n",
       "      <td>object</td>\n",
       "      <td>object</td>\n",
       "      <td>object</td>\n",
       "      <td>int8</td>\n",
       "      <td>int8</td>\n",
       "      <td>object</td>\n",
       "      <td>object</td>\n",
       "    </tr>\n",
       "    <tr>\n",
       "      <th>uique_counts</th>\n",
       "      <td>26</td>\n",
       "      <td>41</td>\n",
       "      <td>166557</td>\n",
       "      <td>1852</td>\n",
       "      <td>53</td>\n",
       "      <td>772</td>\n",
       "      <td>1523</td>\n",
       "      <td>3</td>\n",
       "      <td>38</td>\n",
       "      <td>20</td>\n",
       "      <td>17</td>\n",
       "      <td>6</td>\n",
       "      <td>8</td>\n",
       "      <td>101</td>\n",
       "      <td>45</td>\n",
       "    </tr>\n",
       "  </tbody>\n",
       "</table>\n",
       "</div>"
      ],
      "text/plain": [
       "             model_year condition odometer sellingprice    make   model  \\\n",
       "null_ratio          0.0       0.0      0.0          0.0     0.0     0.0   \n",
       "dtypes            int64   float64  float64        int64  object  object   \n",
       "uique_counts         26        41   166557         1852      53     772   \n",
       "\n",
       "                trim transmission   state   color interior sale_dayofweek  \\\n",
       "null_ratio       0.0          0.0     0.0     0.0      0.0            0.0   \n",
       "dtypes        object       object  object  object   object           int8   \n",
       "uique_counts    1523            3      38      20       17              6   \n",
       "\n",
       "             sale_month made_country    body  \n",
       "null_ratio          0.0          0.0     0.0  \n",
       "dtypes             int8       object  object  \n",
       "uique_counts          8          101      45  "
      ]
     },
     "execution_count": 33,
     "metadata": {},
     "output_type": "execute_result"
    }
   ],
   "source": [
    "pd.DataFrame([df_feature_selected.isnull().mean(),df_feature_selected.dtypes,df_feature_selected.nunique()],index=['null_ratio','dtypes','uique_counts'])\\\n",
    "    .sort_values(by=['null_ratio'],axis=1,ascending=False)"
   ]
  },
  {
   "cell_type": "markdown",
   "metadata": {},
   "source": [
    "Cleaned dataset `df_clean` has no missing values now because missing values has been handled in `Data Preparation`.  And categorical variables don't need to consider set `dummy_na=True` when the model handles `object` columns. "
   ]
  },
  {
   "cell_type": "code",
   "execution_count": 34,
   "metadata": {},
   "outputs": [],
   "source": [
    "# One-Hot Encode \n",
    "cat_cols = df_feature_selected.select_dtypes(include=['object']).columns\n",
    "ff_1 = pd.get_dummies(df_feature_selected[cat_cols],dummy_na=False,prefix_sep='_',drop_first=True)\n",
    "ff_2 = df_feature_selected.drop(cat_cols,axis=1)\n",
    "\n",
    "df_model = ff_1.merge(ff_2,left_index=True,right_index=True)"
   ]
  },
  {
   "cell_type": "code",
   "execution_count": 36,
   "metadata": {},
   "outputs": [],
   "source": [
    "X_df = df_model.drop(['sellingprice'],axis=1)\n",
    "y_df = df_model['sellingprice']"
   ]
  },
  {
   "cell_type": "code",
   "execution_count": 37,
   "metadata": {},
   "outputs": [],
   "source": [
    "# tuning wiht opunta\n",
    "def objective(trial):\n",
    "    \"\"\"\n",
    "    optimize objective fucntion of `optuna`\n",
    "    Args:\n",
    "        trial: int, trial number times.\n",
    "    Retrun:\n",
    "        score: float,return the fit score after each trail of tuning.\n",
    "    \"\"\"\n",
    "    data,target = X_df.values,y_df.values\n",
    "    train_x, valid_x, train_y, valid_y = train_test_split(data, target, test_size=0.25)\n",
    "    dtrain = lgb.Dataset(train_x, label=train_y)\n",
    "    param = {\n",
    "        \"n_estimators\":trial.suggest_int(\"n_estimators\",20,200,log=True),\n",
    "#         \"lambda_l1\": trial.suggest_float(\"lambda_l1\", 1e-8, 10.0, log=True),\n",
    "#         \"lambda_l2\": trial.suggest_float(\"lambda_l2\", 1e-8, 10.0, log=True),\n",
    "#         \"num_leaves\": trial.suggest_int(\"num_leaves\", 2, 256),\n",
    "    }\n",
    "    gbm = lgb.train(param, dtrain)\n",
    "    preds = gbm.predict(valid_x)\n",
    "    pred_labels = np.rint(preds)\n",
    "    score = r2_score(valid_y, pred_labels)\n",
    "    return score\n"
   ]
  },
  {
   "cell_type": "code",
   "execution_count": 38,
   "metadata": {},
   "outputs": [
    {
     "name": "stderr",
     "output_type": "stream",
     "text": [
      "\u001b[32m[I 2021-08-20 13:16:52,638]\u001b[0m A new study created in memory with name: no-name-0fd61550-5c4a-4a6f-861d-cf4fc68feb78\u001b[0m\n",
      "D:\\proProgrammes\\Anaconda\\lib\\site-packages\\lightgbm\\engine.py:148: UserWarning: Found `n_estimators` in params. Will use it instead of argument\n",
      "  _log_warning(\"Found `{}` in params. Will use it instead of argument\".format(alias))\n"
     ]
    },
    {
     "name": "stdout",
     "output_type": "stream",
     "text": [
      "[LightGBM] [Warning] Auto-choosing row-wise multi-threading, the overhead of testing was 0.013677 seconds.\n",
      "You can set `force_row_wise=true` to remove the overhead.\n",
      "And if memory is not enough, you can set `force_col_wise=true`.\n",
      "[LightGBM] [Info] Total Bins 3469\n",
      "[LightGBM] [Info] Number of data points in the train set: 400245, number of used features: 1570\n",
      "[LightGBM] [Info] Start training from score 13870.755447\n"
     ]
    },
    {
     "name": "stderr",
     "output_type": "stream",
     "text": [
      "\u001b[32m[I 2021-08-20 13:19:19,038]\u001b[0m Trial 0 finished with value: 0.9346000418757955 and parameters: {'n_estimators': 172}. Best is trial 0 with value: 0.9346000418757955.\u001b[0m\n",
      "D:\\proProgrammes\\Anaconda\\lib\\site-packages\\lightgbm\\engine.py:148: UserWarning: Found `n_estimators` in params. Will use it instead of argument\n",
      "  _log_warning(\"Found `{}` in params. Will use it instead of argument\".format(alias))\n"
     ]
    },
    {
     "name": "stdout",
     "output_type": "stream",
     "text": [
      "[LightGBM] [Warning] Auto-choosing col-wise multi-threading, the overhead of testing was 0.034199 seconds.\n",
      "You can set `force_col_wise=true` to remove the overhead.\n",
      "[LightGBM] [Info] Total Bins 3477\n",
      "[LightGBM] [Info] Number of data points in the train set: 400245, number of used features: 1574\n",
      "[LightGBM] [Info] Start training from score 13857.306670\n"
     ]
    },
    {
     "name": "stderr",
     "output_type": "stream",
     "text": [
      "\u001b[32m[I 2021-08-20 13:21:37,385]\u001b[0m Trial 1 finished with value: 0.801838170364073 and parameters: {'n_estimators': 27}. Best is trial 0 with value: 0.9346000418757955.\u001b[0m\n",
      "D:\\proProgrammes\\Anaconda\\lib\\site-packages\\lightgbm\\engine.py:148: UserWarning: Found `n_estimators` in params. Will use it instead of argument\n",
      "  _log_warning(\"Found `{}` in params. Will use it instead of argument\".format(alias))\n"
     ]
    },
    {
     "name": "stdout",
     "output_type": "stream",
     "text": [
      "[LightGBM] [Warning] Auto-choosing row-wise multi-threading, the overhead of testing was 0.004679 seconds.\n",
      "You can set `force_row_wise=true` to remove the overhead.\n",
      "And if memory is not enough, you can set `force_col_wise=true`.\n",
      "[LightGBM] [Info] Total Bins 3479\n",
      "[LightGBM] [Info] Number of data points in the train set: 400245, number of used features: 1575\n",
      "[LightGBM] [Info] Start training from score 13861.872948\n"
     ]
    },
    {
     "name": "stderr",
     "output_type": "stream",
     "text": [
      "\u001b[32m[I 2021-08-20 13:23:50,700]\u001b[0m Trial 2 finished with value: 0.80102290208735 and parameters: {'n_estimators': 27}. Best is trial 0 with value: 0.9346000418757955.\u001b[0m\n",
      "D:\\proProgrammes\\Anaconda\\lib\\site-packages\\lightgbm\\engine.py:148: UserWarning: Found `n_estimators` in params. Will use it instead of argument\n",
      "  _log_warning(\"Found `{}` in params. Will use it instead of argument\".format(alias))\n"
     ]
    },
    {
     "name": "stdout",
     "output_type": "stream",
     "text": [
      "[LightGBM] [Warning] Auto-choosing col-wise multi-threading, the overhead of testing was 0.011672 seconds.\n",
      "You can set `force_col_wise=true` to remove the overhead.\n",
      "[LightGBM] [Info] Total Bins 3467\n",
      "[LightGBM] [Info] Number of data points in the train set: 400245, number of used features: 1569\n",
      "[LightGBM] [Info] Start training from score 13853.905600\n"
     ]
    },
    {
     "name": "stderr",
     "output_type": "stream",
     "text": [
      "\u001b[32m[I 2021-08-20 13:25:50,913]\u001b[0m Trial 3 finished with value: 0.9355795097146308 and parameters: {'n_estimators': 188}. Best is trial 3 with value: 0.9355795097146308.\u001b[0m\n",
      "D:\\proProgrammes\\Anaconda\\lib\\site-packages\\lightgbm\\engine.py:148: UserWarning: Found `n_estimators` in params. Will use it instead of argument\n",
      "  _log_warning(\"Found `{}` in params. Will use it instead of argument\".format(alias))\n"
     ]
    },
    {
     "name": "stdout",
     "output_type": "stream",
     "text": [
      "[LightGBM] [Warning] Auto-choosing col-wise multi-threading, the overhead of testing was 0.028106 seconds.\n",
      "You can set `force_col_wise=true` to remove the overhead.\n",
      "[LightGBM] [Info] Total Bins 3463\n",
      "[LightGBM] [Info] Number of data points in the train set: 400245, number of used features: 1567\n",
      "[LightGBM] [Info] Start training from score 13844.970278\n"
     ]
    },
    {
     "name": "stderr",
     "output_type": "stream",
     "text": [
      "\u001b[32m[I 2021-08-20 13:27:50,466]\u001b[0m Trial 4 finished with value: 0.7471497245269361 and parameters: {'n_estimators': 20}. Best is trial 3 with value: 0.9355795097146308.\u001b[0m\n",
      "D:\\proProgrammes\\Anaconda\\lib\\site-packages\\lightgbm\\engine.py:148: UserWarning: Found `n_estimators` in params. Will use it instead of argument\n",
      "  _log_warning(\"Found `{}` in params. Will use it instead of argument\".format(alias))\n"
     ]
    },
    {
     "name": "stdout",
     "output_type": "stream",
     "text": [
      "[LightGBM] [Warning] Auto-choosing row-wise multi-threading, the overhead of testing was 0.005022 seconds.\n",
      "You can set `force_row_wise=true` to remove the overhead.\n",
      "And if memory is not enough, you can set `force_col_wise=true`.\n",
      "[LightGBM] [Info] Total Bins 3477\n",
      "[LightGBM] [Info] Number of data points in the train set: 400245, number of used features: 1574\n",
      "[LightGBM] [Info] Start training from score 13870.741671\n"
     ]
    },
    {
     "name": "stderr",
     "output_type": "stream",
     "text": [
      "\u001b[32m[I 2021-08-20 13:29:49,638]\u001b[0m Trial 5 finished with value: 0.7761717036998129 and parameters: {'n_estimators': 23}. Best is trial 3 with value: 0.9355795097146308.\u001b[0m\n",
      "D:\\proProgrammes\\Anaconda\\lib\\site-packages\\lightgbm\\engine.py:148: UserWarning: Found `n_estimators` in params. Will use it instead of argument\n",
      "  _log_warning(\"Found `{}` in params. Will use it instead of argument\".format(alias))\n"
     ]
    },
    {
     "name": "stdout",
     "output_type": "stream",
     "text": [
      "[LightGBM] [Warning] Auto-choosing col-wise multi-threading, the overhead of testing was 0.025499 seconds.\n",
      "You can set `force_col_wise=true` to remove the overhead.\n",
      "[LightGBM] [Info] Total Bins 3483\n",
      "[LightGBM] [Info] Number of data points in the train set: 400245, number of used features: 1577\n",
      "[LightGBM] [Info] Start training from score 13859.734075\n"
     ]
    },
    {
     "name": "stderr",
     "output_type": "stream",
     "text": [
      "\u001b[32m[I 2021-08-20 13:31:45,807]\u001b[0m Trial 6 finished with value: 0.8551422024429883 and parameters: {'n_estimators': 42}. Best is trial 3 with value: 0.9355795097146308.\u001b[0m\n",
      "D:\\proProgrammes\\Anaconda\\lib\\site-packages\\lightgbm\\engine.py:148: UserWarning: Found `n_estimators` in params. Will use it instead of argument\n",
      "  _log_warning(\"Found `{}` in params. Will use it instead of argument\".format(alias))\n"
     ]
    },
    {
     "name": "stdout",
     "output_type": "stream",
     "text": [
      "[LightGBM] [Warning] Auto-choosing col-wise multi-threading, the overhead of testing was 0.026158 seconds.\n",
      "You can set `force_col_wise=true` to remove the overhead.\n",
      "[LightGBM] [Info] Total Bins 3467\n",
      "[LightGBM] [Info] Number of data points in the train set: 400245, number of used features: 1569\n",
      "[LightGBM] [Info] Start training from score 13864.420517\n"
     ]
    },
    {
     "name": "stderr",
     "output_type": "stream",
     "text": [
      "\u001b[32m[I 2021-08-20 13:33:45,224]\u001b[0m Trial 7 finished with value: 0.9134930722594681 and parameters: {'n_estimators': 108}. Best is trial 3 with value: 0.9355795097146308.\u001b[0m\n",
      "D:\\proProgrammes\\Anaconda\\lib\\site-packages\\lightgbm\\engine.py:148: UserWarning: Found `n_estimators` in params. Will use it instead of argument\n",
      "  _log_warning(\"Found `{}` in params. Will use it instead of argument\".format(alias))\n"
     ]
    },
    {
     "name": "stdout",
     "output_type": "stream",
     "text": [
      "[LightGBM] [Warning] Auto-choosing col-wise multi-threading, the overhead of testing was 0.014068 seconds.\n",
      "You can set `force_col_wise=true` to remove the overhead.\n",
      "[LightGBM] [Info] Total Bins 3459\n",
      "[LightGBM] [Info] Number of data points in the train set: 400245, number of used features: 1565\n",
      "[LightGBM] [Info] Start training from score 13859.930313\n"
     ]
    },
    {
     "name": "stderr",
     "output_type": "stream",
     "text": [
      "\u001b[32m[I 2021-08-20 13:35:50,813]\u001b[0m Trial 8 finished with value: 0.9288483514672208 and parameters: {'n_estimators': 144}. Best is trial 3 with value: 0.9355795097146308.\u001b[0m\n",
      "D:\\proProgrammes\\Anaconda\\lib\\site-packages\\lightgbm\\engine.py:148: UserWarning: Found `n_estimators` in params. Will use it instead of argument\n",
      "  _log_warning(\"Found `{}` in params. Will use it instead of argument\".format(alias))\n"
     ]
    },
    {
     "name": "stdout",
     "output_type": "stream",
     "text": [
      "[LightGBM] [Warning] Auto-choosing row-wise multi-threading, the overhead of testing was 0.004618 seconds.\n",
      "You can set `force_row_wise=true` to remove the overhead.\n",
      "And if memory is not enough, you can set `force_col_wise=true`.\n",
      "[LightGBM] [Info] Total Bins 3499\n",
      "[LightGBM] [Info] Number of data points in the train set: 400245, number of used features: 1585\n",
      "[LightGBM] [Info] Start training from score 13861.834814\n"
     ]
    },
    {
     "name": "stderr",
     "output_type": "stream",
     "text": [
      "\u001b[32m[I 2021-08-20 13:37:48,801]\u001b[0m Trial 9 finished with value: 0.7519842725840169 and parameters: {'n_estimators': 20}. Best is trial 3 with value: 0.9355795097146308.\u001b[0m\n"
     ]
    },
    {
     "name": "stdout",
     "output_type": "stream",
     "text": [
      "Number of finished trials: 10\n",
      "Best trial:\n",
      "  Value: 0.9355795097146308\n",
      "  Params: \n",
      "    n_estimators: 188\n"
     ]
    }
   ],
   "source": [
    "study = optuna.create_study(direction=\"maximize\")\n",
    "study.optimize(objective, n_trials=10)\n",
    "print(\"Number of finished trials: {}\".format(len(study.trials)))\n",
    "\n",
    "print(\"Best trial:\")\n",
    "trial = study.best_trial\n",
    "\n",
    "print(\"  Value: {}\".format(trial.value))\n",
    "\n",
    "print(\"  Params: \")\n",
    "for key, value in trial.params.items():\n",
    "    print(\"    {}: {}\".format(key, value))"
   ]
  },
  {
   "cell_type": "markdown",
   "metadata": {},
   "source": [
    "## Evaluate the Results."
   ]
  },
  {
   "cell_type": "code",
   "execution_count": 39,
   "metadata": {},
   "outputs": [
    {
     "name": "stdout",
     "output_type": "stream",
     "text": [
      "0.9400510076339358\n"
     ]
    }
   ],
   "source": [
    "# one of the best params the optuna computed is 198\n",
    "train_x, valid_x, train_y, valid_y = train_test_split(X_df.values, y_df.values,\n",
    "                                                      test_size=0.25,random_state=100)\n",
    "lgb_clf = lgb.LGBMRegressor(n_estimators=198)\n",
    "lgb_clf.fit(train_x,train_y)\n",
    "print(lgb_clf.score(valid_x,valid_y))\n"
   ]
  },
  {
   "cell_type": "markdown",
   "metadata": {},
   "source": [
    "And the model can explain 94% of the sellingprice which is only slightly lower than valuation predication 97%."
   ]
  },
  {
   "cell_type": "code",
   "execution_count": 40,
   "metadata": {},
   "outputs": [
    {
     "data": {
      "image/png": "[encoded data removed]",
      "text/plain": [
       "<Figure size 1296x360 with 1 Axes>"
      ]
     },
     "metadata": {},
     "output_type": "display_data"
    }
   ],
   "source": [
    "#inspiration by https://www.kaggle.com/aleksandradeis/airbnb-seattle-reservation-prices-analysis#Machine-Learning\n",
    "headers = [\"name\", \"score\"]\n",
    "values = sorted(zip(X_df, lgb_clf.feature_importances_), key=lambda x: x[1] * -1)\n",
    "forest_feature_importances = pd.DataFrame(values, columns = headers)\n",
    "forest_feature_importances = forest_feature_importances.sort_values(by = ['score'], ascending = False)\n",
    "\n",
    "features = forest_feature_importances['name'][:20]\n",
    "y_pos = np.arange(len(features))\n",
    "scores = forest_feature_importances['score'][:20]\n",
    "\n",
    "#plot feature importances\n",
    "plt.figure(figsize=(18,5))\n",
    "plt.bar(y_pos, scores, align='center', alpha=0.5)\n",
    "plt.xticks(y_pos, features, rotation='vertical')\n",
    "plt.ylabel('importances')\n",
    "plt.xlabel('Features')\n",
    "plt.title('Feature importances (LightGBM)') \n",
    "plt.show()"
   ]
  },
  {
   "cell_type": "markdown",
   "metadata": {},
   "source": [
    "## Conclusion\n",
    "\n",
    "In this analysis, we tried to understand the timing when people sell a car is less than 96,000km. The valuation made by specialists is close to the final selling price. And we can make a prediction model by ourself with basic information of a used car.\n",
    "\n",
    "Hope the predication is helpful to people who want to sell their cars!"
   ]
  },
  {
   "cell_type": "code",
   "execution_count": null,
   "metadata": {},
   "outputs": [],
   "source": []
  }
 ],
 "metadata": {
  "interpreter": {
   "hash": "9d579240d9b61d6fcc238235d6e0fff24f9de27b80389e364606acf4b80cd548"
  },
  "kernelspec": {
   "display_name": "Python 3",
   "language": "python",
   "name": "python3"
  },
  "language_info": {
   "codemirror_mode": {
    "name": "ipython",
    "version": 3
   },
   "file_extension": ".py",
   "mimetype": "text/x-python",
   "name": "python",
   "nbconvert_exporter": "python",
   "pygments_lexer": "ipython3",
   "version": "3.8.8"
  },
  "toc": {
   "base_numbering": 1,
   "nav_menu": {},
   "number_sections": true,
   "sideBar": true,
   "skip_h1_title": false,
   "title_cell": "Table of Contents",
   "title_sidebar": "Contents",
   "toc_cell": false,
   "toc_position": {},
   "toc_section_display": true,
   "toc_window_display": false
  },
  "varInspector": {
   "cols": {
    "lenName": 16,
    "lenType": 16,
    "lenVar": 40
   },
   "kernels_config": {
    "python": {
     "delete_cmd_postfix": "",
     "delete_cmd_prefix": "del ",
     "library": "var_list.py",
     "varRefreshCmd": "print(var_dic_list())"
    },
    "r": {
     "delete_cmd_postfix": ") ",
     "delete_cmd_prefix": "rm(",
     "library": "var_list.r",
     "varRefreshCmd": "cat(var_dic_list()) "
    }
   },
   "types_to_exclude": [
    "module",
    "function",
    "builtin_function_or_method",
    "instance",
    "_Feature"
   ],
   "window_display": false
  }
 },
 "nbformat": 4,
 "nbformat_minor": 4
}
