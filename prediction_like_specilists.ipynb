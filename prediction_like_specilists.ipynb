{
 "cells": [
  {
   "cell_type": "markdown",
   "metadata": {},
   "source": [
    "# Feature Meanings and Predication for Used Car Auction Prices "
   ]
  },
  {
   "cell_type": "code",
   "execution_count": 1,
   "metadata": {},
   "outputs": [],
   "source": [
    "import pandas as pd\r\n",
    "import numpy as np\r\n",
    "import re\r\n",
    "\r\n",
    "import matplotlib.pyplot as plt\r\n",
    "import seaborn as sns\r\n",
    "\r\n",
    "from sklearn.linear_model import LinearRegression\r\n",
    "from sklearn.model_selection import train_test_split\r\n",
    "from sklearn.metrics import r2_score,accuracy_score\r\n",
    "from sklearn.ensemble import RandomForestRegressor\r\n",
    "import optuna\r\n",
    "import lightgbm as lgb  "
   ]
  },
  {
   "cell_type": "code",
   "execution_count": 2,
   "metadata": {},
   "outputs": [
    {
     "name": "stderr",
     "output_type": "stream",
     "text": [
      "b'Skipping line 408163: expected 16 fields, saw 17\\nSkipping line 417837: expected 16 fields, saw 17\\nSkipping line 421291: expected 16 fields, saw 17\\nSkipping line 424163: expected 16 fields, saw 17\\n'\n",
      "b'Skipping line 427042: expected 16 fields, saw 17\\nSkipping line 427045: expected 16 fields, saw 17\\nSkipping line 434426: expected 16 fields, saw 17\\nSkipping line 444503: expected 16 fields, saw 17\\nSkipping line 453796: expected 16 fields, saw 17\\n'\n",
      "b'Skipping line 461599: expected 16 fields, saw 17\\nSkipping line 461614: expected 16 fields, saw 17\\n'\n",
      "b'Skipping line 492486: expected 16 fields, saw 17\\nSkipping line 497010: expected 16 fields, saw 17\\nSkipping line 497013: expected 16 fields, saw 17\\nSkipping line 499085: expected 16 fields, saw 17\\nSkipping line 501457: expected 16 fields, saw 17\\nSkipping line 505301: expected 16 fields, saw 17\\nSkipping line 505308: expected 16 fields, saw 17\\nSkipping line 520463: expected 16 fields, saw 17\\n'\n",
      "b'Skipping line 528998: expected 16 fields, saw 17\\nSkipping line 529011: expected 16 fields, saw 17\\nSkipping line 529015: expected 16 fields, saw 17\\nSkipping line 529624: expected 16 fields, saw 17\\nSkipping line 548786: expected 16 fields, saw 17\\nSkipping line 551224: expected 16 fields, saw 17\\nSkipping line 554712: expected 16 fields, saw 17\\n'\n"
     ]
    }
   ],
   "source": [
    "df = pd.read_csv('datasets/project_car_prices.csv',error_bad_lines=False,warn_bad_lines=True)"
   ]
  },
  {
   "cell_type": "code",
   "execution_count": 3,
   "metadata": {},
   "outputs": [
    {
     "data": {
      "text/html": [
       "<div>\n",
       "<style scoped>\n",
       "    .dataframe tbody tr th:only-of-type {\n",
       "        vertical-align: middle;\n",
       "    }\n",
       "\n",
       "    .dataframe tbody tr th {\n",
       "        vertical-align: top;\n",
       "    }\n",
       "\n",
       "    .dataframe thead th {\n",
       "        text-align: right;\n",
       "    }\n",
       "</style>\n",
       "<table border=\"1\" class=\"dataframe\">\n",
       "  <thead>\n",
       "    <tr style=\"text-align: right;\">\n",
       "      <th></th>\n",
       "      <th>year</th>\n",
       "      <th>make</th>\n",
       "      <th>model</th>\n",
       "      <th>trim</th>\n",
       "      <th>body</th>\n",
       "      <th>transmission</th>\n",
       "      <th>vin</th>\n",
       "      <th>state</th>\n",
       "      <th>condition</th>\n",
       "      <th>odometer</th>\n",
       "      <th>color</th>\n",
       "      <th>interior</th>\n",
       "      <th>seller</th>\n",
       "      <th>mmr</th>\n",
       "      <th>sellingprice</th>\n",
       "      <th>saledate</th>\n",
       "    </tr>\n",
       "  </thead>\n",
       "  <tbody>\n",
       "    <tr>\n",
       "      <th>0</th>\n",
       "      <td>2015</td>\n",
       "      <td>Kia</td>\n",
       "      <td>Sorento</td>\n",
       "      <td>LX</td>\n",
       "      <td>SUV</td>\n",
       "      <td>automatic</td>\n",
       "      <td>5xyktca69fg566472</td>\n",
       "      <td>ca</td>\n",
       "      <td>5.0</td>\n",
       "      <td>16639.0</td>\n",
       "      <td>white</td>\n",
       "      <td>black</td>\n",
       "      <td>kia motors america, inc</td>\n",
       "      <td>20500</td>\n",
       "      <td>21500</td>\n",
       "      <td>Tue Dec 16 2014 12:30:00 GMT-0800 (PST)</td>\n",
       "    </tr>\n",
       "    <tr>\n",
       "      <th>1</th>\n",
       "      <td>2015</td>\n",
       "      <td>Kia</td>\n",
       "      <td>Sorento</td>\n",
       "      <td>LX</td>\n",
       "      <td>SUV</td>\n",
       "      <td>automatic</td>\n",
       "      <td>5xyktca69fg561319</td>\n",
       "      <td>ca</td>\n",
       "      <td>5.0</td>\n",
       "      <td>9393.0</td>\n",
       "      <td>white</td>\n",
       "      <td>beige</td>\n",
       "      <td>kia motors america, inc</td>\n",
       "      <td>20800</td>\n",
       "      <td>21500</td>\n",
       "      <td>Tue Dec 16 2014 12:30:00 GMT-0800 (PST)</td>\n",
       "    </tr>\n",
       "    <tr>\n",
       "      <th>2</th>\n",
       "      <td>2014</td>\n",
       "      <td>BMW</td>\n",
       "      <td>3 Series</td>\n",
       "      <td>328i SULEV</td>\n",
       "      <td>Sedan</td>\n",
       "      <td>automatic</td>\n",
       "      <td>wba3c1c51ek116351</td>\n",
       "      <td>ca</td>\n",
       "      <td>4.5</td>\n",
       "      <td>1331.0</td>\n",
       "      <td>gray</td>\n",
       "      <td>black</td>\n",
       "      <td>financial services remarketing (lease)</td>\n",
       "      <td>31900</td>\n",
       "      <td>30000</td>\n",
       "      <td>Thu Jan 15 2015 04:30:00 GMT-0800 (PST)</td>\n",
       "    </tr>\n",
       "  </tbody>\n",
       "</table>\n",
       "</div>"
      ],
      "text/plain": [
       "   year make     model        trim   body transmission                vin  \\\n",
       "0  2015  Kia   Sorento          LX    SUV    automatic  5xyktca69fg566472   \n",
       "1  2015  Kia   Sorento          LX    SUV    automatic  5xyktca69fg561319   \n",
       "2  2014  BMW  3 Series  328i SULEV  Sedan    automatic  wba3c1c51ek116351   \n",
       "\n",
       "  state  condition  odometer  color interior  \\\n",
       "0    ca        5.0   16639.0  white    black   \n",
       "1    ca        5.0    9393.0  white    beige   \n",
       "2    ca        4.5    1331.0   gray    black   \n",
       "\n",
       "                                   seller    mmr  sellingprice  \\\n",
       "0                 kia motors america, inc  20500         21500   \n",
       "1                 kia motors america, inc  20800         21500   \n",
       "2  financial services remarketing (lease)  31900         30000   \n",
       "\n",
       "                                  saledate  \n",
       "0  Tue Dec 16 2014 12:30:00 GMT-0800 (PST)  \n",
       "1  Tue Dec 16 2014 12:30:00 GMT-0800 (PST)  \n",
       "2  Thu Jan 15 2015 04:30:00 GMT-0800 (PST)  "
      ]
     },
     "execution_count": 3,
     "metadata": {},
     "output_type": "execute_result"
    }
   ],
   "source": [
    "df.head(3)"
   ]
  },
  {
   "cell_type": "markdown",
   "metadata": {},
   "source": [
    "## Meaning of Special Features\n",
    "\n",
    "Most of the features are easy to understand, but there are some special."
   ]
  },
  {
   "attachments": {
    "f0f6c2db-a67b-4292-b823-6d3138fc83a2.png": {
     "image/png": "[encoded data removed]"
    }
   },
   "cell_type": "markdown",
   "metadata": {},
   "source": [
    "### vin: Vehicle identification number\r\n",
    "\r\n",
    "The first special feature is `vin`. From `wikipedia`, `vin` means ***Vehicle identification number***.\r\n",
    "> A vehicle identification number (VIN) (also called a chassis number or frame number) is a unique code, including a serial number, used by the automotive industry to identify individual motor vehicles, towed vehicles, motorcycles, scooters and mopeds, as defined in ISO 3779 (content and structure) and ISO 4030 (location and attachment).\r\n",
    "\r\n",
    ">  A `vin` has 17 letters. Components of `vin` are `World manufacturer identifier`(1-3),`Vehicle descriptor section`(4-9) and\t`Vehicle identifier section`(10-17).\r\n",
    "\r\n",
    "> Country or region codes can be distinguished by the first 2 letters of `World manufacturer identifier`.\r\n",
    "\r\n",
    "> https://en.wikipedia.org/wiki/Vehicle_identification_number#Components\r\n",
    "\r\n",
    "So we can **add a feature `made_country` with the first 2 letters of `vin`**.\r\n",
    "\r\n",
    "\r\n",
    "We can check the info of a vin by https://driving-tests.org/vin-decoder/. If we query the first vin of the data `5xyktca69fg566472`,we can get a result like :\r\n",
    "\r\n",
    "![vin_example.png](attachment:f0f6c2db-a67b-4292-b823-6d3138fc83a2.png)"
   ]
  },
  {
   "cell_type": "code",
   "execution_count": 4,
   "metadata": {},
   "outputs": [],
   "source": [
    "df['made_country']=df['vin'].map(lambda x:x[:2])"
   ]
  },
  {
   "cell_type": "markdown",
   "metadata": {},
   "source": [
    "### mmr: Manheim Market Report"
   ]
  },
  {
   "cell_type": "code",
   "execution_count": 5,
   "metadata": {},
   "outputs": [
    {
     "data": {
      "image/png": "[encoded data removed]",
      "text/plain": [
       "<Figure size 432x288 with 1 Axes>"
      ]
     },
     "metadata": {
      "needs_background": "light"
     },
     "output_type": "display_data"
    }
   ],
   "source": [
    "plt.scatter(df['mmr'],df['sellingprice'])\r\n",
    "plt.show()"
   ]
  },
  {
   "cell_type": "markdown",
   "metadata": {},
   "source": [
    "What really intersting is that `mmr` and `sellingprice` are so highly correlated. I did not find an explanation in `wikipedia`. But with Google I found this https://www.autoauctionmall.com/learning-center/what-does-mmr-mean/. \n",
    "> MMR in the car business stands for Manheim Market Report, an indicator of wholesale prices.\n",
    "\n",
    "> Manheim is a company established in 1945 as a car auction company. It has grown to a very reputable company and its MMR is a baseline tool for wholesale car price determination. They base their price calculations on over 10 million transaction over the past 13-month period to .\n",
    "\n",
    "I think that explained  why `mmr` and `sellingprice` are so close to each other in the figure. `mmr` is a valuation made by the Manheim company.The company should make full use of all the infomation of car like `model`,`odometer` and so on.\n",
    "\n",
    "So it is **not** a good idea to take `mmr` as a explanatory feature."
   ]
  },
  {
   "cell_type": "markdown",
   "metadata": {},
   "source": [
    "### odometer: measuring the distance traveled by a vehicle"
   ]
  },
  {
   "cell_type": "code",
   "execution_count": 6,
   "metadata": {},
   "outputs": [
    {
     "data": {
      "text/plain": [
       "68323.19579679874"
      ]
     },
     "execution_count": 6,
     "metadata": {},
     "output_type": "execute_result"
    }
   ],
   "source": [
    "df['odometer'].mean()"
   ]
  },
  {
   "cell_type": "code",
   "execution_count": 7,
   "metadata": {},
   "outputs": [
    {
     "data": {
      "text/plain": [
       "<AxesSubplot:ylabel='Frequency'>"
      ]
     },
     "execution_count": 7,
     "metadata": {},
     "output_type": "execute_result"
    },
    {
     "data": {
      "image/png": "[encoded data removed]",
      "text/plain": [
       "<Figure size 432x288 with 1 Axes>"
      ]
     },
     "metadata": {
      "needs_background": "light"
     },
     "output_type": "display_data"
    }
   ],
   "source": [
    "(df['odometer']/1000).plot.hist(bins=50, alpha=0.5)"
   ]
  },
  {
   "cell_type": "markdown",
   "metadata": {},
   "source": [
    "`odometer` means:\n",
    "> An odometer or odograph is an instrument used for measuring the distance traveled by a vehicle, such as a bicycle or car. The device may be electronic, mechanical, or a combination of the two (electromechanical). The noun derives from ancient Greek ὁδόμετρον, hodómetron, from ὁδός, hodós (\"path\" or \"gateway\") and μέτρον, métron (\"measure\"). Early forms of the odometer existed in the ancient Greco-Roman world as well as in ancient China. In countries using Imperial units or US customary units it is sometimes called a mileometer or milometer, the former name especially being prevalent in the United Kingdom and among members of the Commonwealth.\n",
    "> https://en.wikipedia.org/wiki/Odometer\n",
    "\n",
    "From the figure above,the unit of measurement may be `kilometers`. If that is true, the mean odometer of used cars is 68000 kilometers. And most of them are within 200000 kilometers."
   ]
  },
  {
   "cell_type": "markdown",
   "metadata": {},
   "source": [
    "### year: vehicle's model year\n",
    "\n",
    "After checking several vins, the `year` equals vehicle's model year."
   ]
  },
  {
   "cell_type": "code",
   "execution_count": 8,
   "metadata": {},
   "outputs": [],
   "source": [
    "# change `mmr` to `valuation` and `year` to `model_year` for better understand\r\n",
    "df=df.rename(columns={'mmr':'valuation','year':'model_year'})"
   ]
  },
  {
   "cell_type": "markdown",
   "metadata": {},
   "source": [
    "##  Data Preparation"
   ]
  },
  {
   "cell_type": "markdown",
   "metadata": {},
   "source": [
    " overview of the data\n"
   ]
  },
  {
   "cell_type": "code",
   "execution_count": 9,
   "metadata": {
    "scrolled": true
   },
   "outputs": [
    {
     "data": {
      "text/html": [
       "<div>\n",
       "<style scoped>\n",
       "    .dataframe tbody tr th:only-of-type {\n",
       "        vertical-align: middle;\n",
       "    }\n",
       "\n",
       "    .dataframe tbody tr th {\n",
       "        vertical-align: top;\n",
       "    }\n",
       "\n",
       "    .dataframe thead th {\n",
       "        text-align: right;\n",
       "    }\n",
       "</style>\n",
       "<table border=\"1\" class=\"dataframe\">\n",
       "  <thead>\n",
       "    <tr style=\"text-align: right;\">\n",
       "      <th></th>\n",
       "      <th>transmission</th>\n",
       "      <th>body</th>\n",
       "      <th>condition</th>\n",
       "      <th>trim</th>\n",
       "      <th>model</th>\n",
       "      <th>make</th>\n",
       "      <th>color</th>\n",
       "      <th>interior</th>\n",
       "      <th>odometer</th>\n",
       "      <th>valuation</th>\n",
       "      <th>saledate</th>\n",
       "      <th>sellingprice</th>\n",
       "      <th>model_year</th>\n",
       "      <th>seller</th>\n",
       "      <th>state</th>\n",
       "      <th>vin</th>\n",
       "      <th>made_country</th>\n",
       "    </tr>\n",
       "  </thead>\n",
       "  <tbody>\n",
       "    <tr>\n",
       "      <th>null_per</th>\n",
       "      <td>0.11695</td>\n",
       "      <td>0.023613</td>\n",
       "      <td>0.021106</td>\n",
       "      <td>0.01906</td>\n",
       "      <td>0.018609</td>\n",
       "      <td>0.018434</td>\n",
       "      <td>0.00134</td>\n",
       "      <td>0.00134</td>\n",
       "      <td>0.000168</td>\n",
       "      <td>0.0</td>\n",
       "      <td>0.0</td>\n",
       "      <td>0.0</td>\n",
       "      <td>0.0</td>\n",
       "      <td>0.0</td>\n",
       "      <td>0.0</td>\n",
       "      <td>0.0</td>\n",
       "      <td>0.0</td>\n",
       "    </tr>\n",
       "    <tr>\n",
       "      <th>dtypes</th>\n",
       "      <td>object</td>\n",
       "      <td>object</td>\n",
       "      <td>float64</td>\n",
       "      <td>object</td>\n",
       "      <td>object</td>\n",
       "      <td>object</td>\n",
       "      <td>object</td>\n",
       "      <td>object</td>\n",
       "      <td>float64</td>\n",
       "      <td>int64</td>\n",
       "      <td>object</td>\n",
       "      <td>int64</td>\n",
       "      <td>int64</td>\n",
       "      <td>object</td>\n",
       "      <td>object</td>\n",
       "      <td>object</td>\n",
       "      <td>object</td>\n",
       "    </tr>\n",
       "    <tr>\n",
       "      <th>nuique</th>\n",
       "      <td>2</td>\n",
       "      <td>86</td>\n",
       "      <td>41</td>\n",
       "      <td>1975</td>\n",
       "      <td>973</td>\n",
       "      <td>96</td>\n",
       "      <td>20</td>\n",
       "      <td>17</td>\n",
       "      <td>172277</td>\n",
       "      <td>1101</td>\n",
       "      <td>3745</td>\n",
       "      <td>1887</td>\n",
       "      <td>34</td>\n",
       "      <td>14264</td>\n",
       "      <td>38</td>\n",
       "      <td>550296</td>\n",
       "      <td>103</td>\n",
       "    </tr>\n",
       "  </tbody>\n",
       "</table>\n",
       "</div>"
      ],
      "text/plain": [
       "         transmission      body condition     trim     model      make  \\\n",
       "null_per      0.11695  0.023613  0.021106  0.01906  0.018609  0.018434   \n",
       "dtypes         object    object   float64   object    object    object   \n",
       "nuique              2        86        41     1975       973        96   \n",
       "\n",
       "            color interior  odometer valuation saledate sellingprice  \\\n",
       "null_per  0.00134  0.00134  0.000168       0.0      0.0          0.0   \n",
       "dtypes     object   object   float64     int64   object        int64   \n",
       "nuique         20       17    172277      1101     3745         1887   \n",
       "\n",
       "         model_year  seller   state     vin made_country  \n",
       "null_per        0.0     0.0     0.0     0.0          0.0  \n",
       "dtypes        int64  object  object  object       object  \n",
       "nuique           34   14264      38  550296          103  "
      ]
     },
     "execution_count": 9,
     "metadata": {},
     "output_type": "execute_result"
    }
   ],
   "source": [
    "pd.DataFrame([df.isnull().mean(),df.dtypes,df.nunique()],index=['null_per','dtypes','nuique'])\\\r\n",
    "    .sort_values(by=['null_per'],axis=1,ascending=False)"
   ]
  },
  {
   "cell_type": "markdown",
   "metadata": {},
   "source": [
    "handle missing values, drop them all since the the ratio is not high.\n"
   ]
  },
  {
   "cell_type": "code",
   "execution_count": 10,
   "metadata": {},
   "outputs": [],
   "source": [
    "df=df.dropna(axis=0)"
   ]
  },
  {
   "cell_type": "markdown",
   "metadata": {},
   "source": [
    "data extract\n"
   ]
  },
  {
   "cell_type": "code",
   "execution_count": 11,
   "metadata": {},
   "outputs": [],
   "source": [
    "# extract `made_country` from vin\r\n",
    "df['made_country']=df['vin'].map(lambda x:x[:2])"
   ]
  },
  {
   "cell_type": "code",
   "execution_count": 12,
   "metadata": {},
   "outputs": [],
   "source": [
    "# extract selling date info\r\n",
    "df['sale_datetime'] = pd.to_datetime(df['saledate'],utc=True)\r\n"
   ]
  },
  {
   "cell_type": "code",
   "execution_count": 13,
   "metadata": {},
   "outputs": [],
   "source": [
    "df['sale_year']=df['sale_datetime'].dt.year.astype('int8')\r\n",
    "df['sale_quarter']=df['sale_datetime'].dt.quarter.astype('int8')\r\n",
    "df['sale_month']=df['sale_datetime'].dt.month.astype('int8')\r\n",
    "df['sale_dayofweek']=df['sale_datetime'].dt.day_of_week.astype('int8')\r\n",
    "df['sale_day']=df['sale_datetime'].dt.day.astype('int8')\r\n",
    "df['sale_hour']= df['sale_datetime'].dt.hour.astype('int8')"
   ]
  },
  {
   "cell_type": "code",
   "execution_count": 14,
   "metadata": {},
   "outputs": [],
   "source": [
    "# clean body\r\n",
    "df['xbody']=df['body'].map(lambda x:str(x).lower())"
   ]
  },
  {
   "cell_type": "code",
   "execution_count": 15,
   "metadata": {},
   "outputs": [
    {
     "data": {
      "text/html": [
       "<div>\n",
       "<style scoped>\n",
       "    .dataframe tbody tr th:only-of-type {\n",
       "        vertical-align: middle;\n",
       "    }\n",
       "\n",
       "    .dataframe tbody tr th {\n",
       "        vertical-align: top;\n",
       "    }\n",
       "\n",
       "    .dataframe thead th {\n",
       "        text-align: right;\n",
       "    }\n",
       "</style>\n",
       "<table border=\"1\" class=\"dataframe\">\n",
       "  <thead>\n",
       "    <tr style=\"text-align: right;\">\n",
       "      <th></th>\n",
       "      <th>model_year</th>\n",
       "      <th>valuation</th>\n",
       "      <th>sale_hour</th>\n",
       "      <th>sale_day</th>\n",
       "      <th>sale_dayofweek</th>\n",
       "      <th>sale_month</th>\n",
       "      <th>sale_quarter</th>\n",
       "      <th>sale_year</th>\n",
       "      <th>sale_datetime</th>\n",
       "      <th>made_country</th>\n",
       "      <th>...</th>\n",
       "      <th>color</th>\n",
       "      <th>odometer</th>\n",
       "      <th>condition</th>\n",
       "      <th>state</th>\n",
       "      <th>vin</th>\n",
       "      <th>transmission</th>\n",
       "      <th>body</th>\n",
       "      <th>trim</th>\n",
       "      <th>model</th>\n",
       "      <th>xbody</th>\n",
       "    </tr>\n",
       "  </thead>\n",
       "  <tbody>\n",
       "    <tr>\n",
       "      <th>null_per</th>\n",
       "      <td>0.0</td>\n",
       "      <td>0.0</td>\n",
       "      <td>0.0</td>\n",
       "      <td>0.0</td>\n",
       "      <td>0.0</td>\n",
       "      <td>0.0</td>\n",
       "      <td>0.0</td>\n",
       "      <td>0.0</td>\n",
       "      <td>0.0</td>\n",
       "      <td>0.0</td>\n",
       "      <td>...</td>\n",
       "      <td>0.0</td>\n",
       "      <td>0.0</td>\n",
       "      <td>0.0</td>\n",
       "      <td>0.0</td>\n",
       "      <td>0.0</td>\n",
       "      <td>0.0</td>\n",
       "      <td>0.0</td>\n",
       "      <td>0.0</td>\n",
       "      <td>0.0</td>\n",
       "      <td>0.0</td>\n",
       "    </tr>\n",
       "    <tr>\n",
       "      <th>dtypes</th>\n",
       "      <td>int64</td>\n",
       "      <td>int64</td>\n",
       "      <td>int8</td>\n",
       "      <td>int8</td>\n",
       "      <td>int8</td>\n",
       "      <td>int8</td>\n",
       "      <td>int8</td>\n",
       "      <td>int8</td>\n",
       "      <td>datetime64[ns, UTC]</td>\n",
       "      <td>object</td>\n",
       "      <td>...</td>\n",
       "      <td>object</td>\n",
       "      <td>float64</td>\n",
       "      <td>float64</td>\n",
       "      <td>object</td>\n",
       "      <td>object</td>\n",
       "      <td>object</td>\n",
       "      <td>object</td>\n",
       "      <td>object</td>\n",
       "      <td>object</td>\n",
       "      <td>object</td>\n",
       "    </tr>\n",
       "    <tr>\n",
       "      <th>nuique</th>\n",
       "      <td>26</td>\n",
       "      <td>1099</td>\n",
       "      <td>21</td>\n",
       "      <td>31</td>\n",
       "      <td>6</td>\n",
       "      <td>8</td>\n",
       "      <td>4</td>\n",
       "      <td>2</td>\n",
       "      <td>3609</td>\n",
       "      <td>101</td>\n",
       "      <td>...</td>\n",
       "      <td>20</td>\n",
       "      <td>160427</td>\n",
       "      <td>41</td>\n",
       "      <td>34</td>\n",
       "      <td>465779</td>\n",
       "      <td>2</td>\n",
       "      <td>85</td>\n",
       "      <td>1507</td>\n",
       "      <td>768</td>\n",
       "      <td>45</td>\n",
       "    </tr>\n",
       "  </tbody>\n",
       "</table>\n",
       "<p>3 rows × 25 columns</p>\n",
       "</div>"
      ],
      "text/plain": [
       "         model_year valuation sale_hour sale_day sale_dayofweek sale_month  \\\n",
       "null_per        0.0       0.0       0.0      0.0            0.0        0.0   \n",
       "dtypes        int64     int64      int8     int8           int8       int8   \n",
       "nuique           26      1099        21       31              6          8   \n",
       "\n",
       "         sale_quarter sale_year        sale_datetime made_country  ...  \\\n",
       "null_per          0.0       0.0                  0.0          0.0  ...   \n",
       "dtypes           int8      int8  datetime64[ns, UTC]       object  ...   \n",
       "nuique              4         2                 3609          101  ...   \n",
       "\n",
       "           color odometer condition   state     vin transmission    body  \\\n",
       "null_per     0.0      0.0       0.0     0.0     0.0          0.0     0.0   \n",
       "dtypes    object  float64   float64  object  object       object  object   \n",
       "nuique        20   160427        41      34  465779            2      85   \n",
       "\n",
       "            trim   model   xbody  \n",
       "null_per     0.0     0.0     0.0  \n",
       "dtypes    object  object  object  \n",
       "nuique      1507     768      45  \n",
       "\n",
       "[3 rows x 25 columns]"
      ]
     },
     "execution_count": 15,
     "metadata": {},
     "output_type": "execute_result"
    }
   ],
   "source": [
    "pd.DataFrame([df.isnull().mean(),df.dtypes,df.nunique()],index=['null_per','dtypes','nuique'])\\\r\n",
    "    .sort_values(by=['null_per'],axis=1,ascending=False)"
   ]
  },
  {
   "cell_type": "code",
   "execution_count": 16,
   "metadata": {},
   "outputs": [],
   "source": [
    "# compress data\r\n",
    "df['mode_year']= df['model_year'].astype('int8')"
   ]
  },
  {
   "cell_type": "markdown",
   "metadata": {},
   "source": [
    "## How do we access the value of a car without valuations by specilists?"
   ]
  },
  {
   "cell_type": "code",
   "execution_count": 17,
   "metadata": {},
   "outputs": [
    {
     "data": {
      "image/png": "[encoded data removed]",
      "text/plain": [
       "<Figure size 504x504 with 2 Axes>"
      ]
     },
     "metadata": {},
     "output_type": "display_data"
    }
   ],
   "source": [
    "heatmap_col=['sellingprice','model_year','condition','odometer','valuation','sale_year']\r\n",
    "sns.set(rc={'figure.figsize':(7,7)})\r\n",
    "sns.heatmap(df[heatmap_col].corr(), annot=True, fmt=\".2f\");"
   ]
  },
  {
   "cell_type": "code",
   "execution_count": 18,
   "metadata": {},
   "outputs": [
    {
     "data": {
      "text/html": [
       "<div>\n",
       "<style scoped>\n",
       "    .dataframe tbody tr th:only-of-type {\n",
       "        vertical-align: middle;\n",
       "    }\n",
       "\n",
       "    .dataframe tbody tr th {\n",
       "        vertical-align: top;\n",
       "    }\n",
       "\n",
       "    .dataframe thead th {\n",
       "        text-align: right;\n",
       "    }\n",
       "</style>\n",
       "<table border=\"1\" class=\"dataframe\">\n",
       "  <thead>\n",
       "    <tr style=\"text-align: right;\">\n",
       "      <th></th>\n",
       "      <th>null_per</th>\n",
       "      <th>dtypes</th>\n",
       "      <th>nuique</th>\n",
       "    </tr>\n",
       "  </thead>\n",
       "  <tbody>\n",
       "    <tr>\n",
       "      <th>transmission</th>\n",
       "      <td>0.0</td>\n",
       "      <td>object</td>\n",
       "      <td>2</td>\n",
       "    </tr>\n",
       "    <tr>\n",
       "      <th>sale_year</th>\n",
       "      <td>0.0</td>\n",
       "      <td>int8</td>\n",
       "      <td>2</td>\n",
       "    </tr>\n",
       "    <tr>\n",
       "      <th>sale_quarter</th>\n",
       "      <td>0.0</td>\n",
       "      <td>int8</td>\n",
       "      <td>4</td>\n",
       "    </tr>\n",
       "    <tr>\n",
       "      <th>sale_dayofweek</th>\n",
       "      <td>0.0</td>\n",
       "      <td>int8</td>\n",
       "      <td>6</td>\n",
       "    </tr>\n",
       "    <tr>\n",
       "      <th>sale_month</th>\n",
       "      <td>0.0</td>\n",
       "      <td>int8</td>\n",
       "      <td>8</td>\n",
       "    </tr>\n",
       "    <tr>\n",
       "      <th>interior</th>\n",
       "      <td>0.0</td>\n",
       "      <td>object</td>\n",
       "      <td>17</td>\n",
       "    </tr>\n",
       "    <tr>\n",
       "      <th>color</th>\n",
       "      <td>0.0</td>\n",
       "      <td>object</td>\n",
       "      <td>20</td>\n",
       "    </tr>\n",
       "    <tr>\n",
       "      <th>sale_hour</th>\n",
       "      <td>0.0</td>\n",
       "      <td>int8</td>\n",
       "      <td>21</td>\n",
       "    </tr>\n",
       "    <tr>\n",
       "      <th>model_year</th>\n",
       "      <td>0.0</td>\n",
       "      <td>int64</td>\n",
       "      <td>26</td>\n",
       "    </tr>\n",
       "    <tr>\n",
       "      <th>mode_year</th>\n",
       "      <td>0.0</td>\n",
       "      <td>int8</td>\n",
       "      <td>26</td>\n",
       "    </tr>\n",
       "    <tr>\n",
       "      <th>sale_day</th>\n",
       "      <td>0.0</td>\n",
       "      <td>int8</td>\n",
       "      <td>31</td>\n",
       "    </tr>\n",
       "    <tr>\n",
       "      <th>state</th>\n",
       "      <td>0.0</td>\n",
       "      <td>object</td>\n",
       "      <td>34</td>\n",
       "    </tr>\n",
       "    <tr>\n",
       "      <th>condition</th>\n",
       "      <td>0.0</td>\n",
       "      <td>float64</td>\n",
       "      <td>41</td>\n",
       "    </tr>\n",
       "    <tr>\n",
       "      <th>xbody</th>\n",
       "      <td>0.0</td>\n",
       "      <td>object</td>\n",
       "      <td>45</td>\n",
       "    </tr>\n",
       "    <tr>\n",
       "      <th>make</th>\n",
       "      <td>0.0</td>\n",
       "      <td>object</td>\n",
       "      <td>53</td>\n",
       "    </tr>\n",
       "    <tr>\n",
       "      <th>body</th>\n",
       "      <td>0.0</td>\n",
       "      <td>object</td>\n",
       "      <td>85</td>\n",
       "    </tr>\n",
       "    <tr>\n",
       "      <th>made_country</th>\n",
       "      <td>0.0</td>\n",
       "      <td>object</td>\n",
       "      <td>101</td>\n",
       "    </tr>\n",
       "    <tr>\n",
       "      <th>model</th>\n",
       "      <td>0.0</td>\n",
       "      <td>object</td>\n",
       "      <td>768</td>\n",
       "    </tr>\n",
       "    <tr>\n",
       "      <th>valuation</th>\n",
       "      <td>0.0</td>\n",
       "      <td>int64</td>\n",
       "      <td>1099</td>\n",
       "    </tr>\n",
       "    <tr>\n",
       "      <th>trim</th>\n",
       "      <td>0.0</td>\n",
       "      <td>object</td>\n",
       "      <td>1507</td>\n",
       "    </tr>\n",
       "    <tr>\n",
       "      <th>sellingprice</th>\n",
       "      <td>0.0</td>\n",
       "      <td>int64</td>\n",
       "      <td>1806</td>\n",
       "    </tr>\n",
       "    <tr>\n",
       "      <th>saledate</th>\n",
       "      <td>0.0</td>\n",
       "      <td>object</td>\n",
       "      <td>3609</td>\n",
       "    </tr>\n",
       "    <tr>\n",
       "      <th>sale_datetime</th>\n",
       "      <td>0.0</td>\n",
       "      <td>datetime64[ns, UTC]</td>\n",
       "      <td>3609</td>\n",
       "    </tr>\n",
       "    <tr>\n",
       "      <th>seller</th>\n",
       "      <td>0.0</td>\n",
       "      <td>object</td>\n",
       "      <td>11927</td>\n",
       "    </tr>\n",
       "    <tr>\n",
       "      <th>odometer</th>\n",
       "      <td>0.0</td>\n",
       "      <td>float64</td>\n",
       "      <td>160427</td>\n",
       "    </tr>\n",
       "    <tr>\n",
       "      <th>vin</th>\n",
       "      <td>0.0</td>\n",
       "      <td>object</td>\n",
       "      <td>465779</td>\n",
       "    </tr>\n",
       "  </tbody>\n",
       "</table>\n",
       "</div>"
      ],
      "text/plain": [
       "               null_per               dtypes  nuique\n",
       "transmission        0.0               object       2\n",
       "sale_year           0.0                 int8       2\n",
       "sale_quarter        0.0                 int8       4\n",
       "sale_dayofweek      0.0                 int8       6\n",
       "sale_month          0.0                 int8       8\n",
       "interior            0.0               object      17\n",
       "color               0.0               object      20\n",
       "sale_hour           0.0                 int8      21\n",
       "model_year          0.0                int64      26\n",
       "mode_year           0.0                 int8      26\n",
       "sale_day            0.0                 int8      31\n",
       "state               0.0               object      34\n",
       "condition           0.0              float64      41\n",
       "xbody               0.0               object      45\n",
       "make                0.0               object      53\n",
       "body                0.0               object      85\n",
       "made_country        0.0               object     101\n",
       "model               0.0               object     768\n",
       "valuation           0.0                int64    1099\n",
       "trim                0.0               object    1507\n",
       "sellingprice        0.0                int64    1806\n",
       "saledate            0.0               object    3609\n",
       "sale_datetime       0.0  datetime64[ns, UTC]    3609\n",
       "seller              0.0               object   11927\n",
       "odometer            0.0              float64  160427\n",
       "vin                 0.0               object  465779"
      ]
     },
     "execution_count": 18,
     "metadata": {},
     "output_type": "execute_result"
    }
   ],
   "source": [
    "pd.DataFrame([df.isnull().mean(),df.dtypes,df.nunique()],index=['null_per','dtypes','nuique'])\\\r\n",
    "    .sort_values(by=['nuique'],axis=1,ascending=True).T"
   ]
  },
  {
   "cell_type": "code",
   "execution_count": 19,
   "metadata": {},
   "outputs": [],
   "source": [
    "# choose features and filter `valuation` out\r\n",
    "choosed_cols = ['model_year','condition','odometer','sellingprice',\r\n",
    "                'make','model','trim','transmission','state','color','interior',\r\n",
    "                'sale_dayofweek','sale_month','made_country','xbody']"
   ]
  },
  {
   "cell_type": "code",
   "execution_count": 20,
   "metadata": {},
   "outputs": [],
   "source": [
    "ff=df[choosed_cols].copy()"
   ]
  },
  {
   "cell_type": "code",
   "execution_count": 21,
   "metadata": {},
   "outputs": [],
   "source": [
    "# One-Hot Encode \r\n",
    "cat_cols = ff.select_dtypes(include=['object']).columns\r\n",
    "ff_1 = pd.get_dummies(ff[cat_cols],dummy_na=False,prefix_sep='_',drop_first=True)\r\n",
    "ff_2 = ff.drop(cat_cols,axis=1)\r\n",
    "\r\n",
    "gf = ff_1.merge(ff_2,left_index=True,right_index=True)"
   ]
  },
  {
   "cell_type": "code",
   "execution_count": 22,
   "metadata": {},
   "outputs": [],
   "source": [
    "X_df = gf.drop(['sellingprice'],axis=1)\r\n",
    "y_df = gf['sellingprice']\r\n"
   ]
  },
  {
   "cell_type": "code",
   "execution_count": 23,
   "metadata": {},
   "outputs": [],
   "source": [
    "def objective(trial):\r\n",
    "    data,target = X_df.values,y_df.values\r\n",
    "    train_x, valid_x, train_y, valid_y = train_test_split(data, target, test_size=0.25)\r\n",
    "    dtrain = lgb.Dataset(train_x, label=train_y)\r\n",
    "    param = {\r\n",
    "        \"n_estimators\":trial.suggest_int(\"n_estimators\",20,200,log=True),\r\n",
    "#         \"lambda_l1\": trial.suggest_float(\"lambda_l1\", 1e-8, 10.0, log=True),\r\n",
    "#         \"lambda_l2\": trial.suggest_float(\"lambda_l2\", 1e-8, 10.0, log=True),\r\n",
    "#         \"num_leaves\": trial.suggest_int(\"num_leaves\", 2, 256),\r\n",
    "    }\r\n",
    "    gbm = lgb.train(param, dtrain)\r\n",
    "    preds = gbm.predict(valid_x)\r\n",
    "    pred_labels = np.rint(preds)\r\n",
    "    score = r2_score(valid_y, pred_labels)\r\n",
    "    return score\r\n"
   ]
  },
  {
   "cell_type": "code",
   "execution_count": 24,
   "metadata": {},
   "outputs": [
    {
     "name": "stderr",
     "output_type": "stream",
     "text": [
      "\u001b[32m[I 2021-08-18 10:41:52,280]\u001b[0m A new study created in memory with name: no-name-629682ca-ac5a-415b-a649-1ec318528b08\u001b[0m\n",
      "D:\\proProgrammes\\Anaconda\\lib\\site-packages\\lightgbm\\engine.py:148: UserWarning: Found `n_estimators` in params. Will use it instead of argument\n",
      "  _log_warning(\"Found `{}` in params. Will use it instead of argument\".format(alias))\n"
     ]
    },
    {
     "name": "stdout",
     "output_type": "stream",
     "text": [
      "[LightGBM] [Warning] Auto-choosing row-wise multi-threading, the overhead of testing was 0.005467 seconds.\n",
      "You can set `force_row_wise=true` to remove the overhead.\n",
      "And if memory is not enough, you can set `force_col_wise=true`.\n",
      "[LightGBM] [Info] Total Bins 3277\n",
      "[LightGBM] [Info] Number of data points in the train set: 354252, number of used features: 1474\n",
      "[LightGBM] [Info] Start training from score 13701.071249\n"
     ]
    },
    {
     "name": "stderr",
     "output_type": "stream",
     "text": [
      "\u001b[32m[I 2021-08-18 10:43:49,068]\u001b[0m Trial 0 finished with value: 0.850686887691557 and parameters: {'n_estimators': 42}. Best is trial 0 with value: 0.850686887691557.\u001b[0m\n",
      "D:\\proProgrammes\\Anaconda\\lib\\site-packages\\lightgbm\\engine.py:148: UserWarning: Found `n_estimators` in params. Will use it instead of argument\n",
      "  _log_warning(\"Found `{}` in params. Will use it instead of argument\".format(alias))\n"
     ]
    },
    {
     "name": "stdout",
     "output_type": "stream",
     "text": [
      "[LightGBM] [Warning] Auto-choosing col-wise multi-threading, the overhead of testing was 0.012778 seconds.\n",
      "You can set `force_col_wise=true` to remove the overhead.\n",
      "[LightGBM] [Info] Total Bins 3275\n",
      "[LightGBM] [Info] Number of data points in the train set: 354252, number of used features: 1473\n",
      "[LightGBM] [Info] Start training from score 13686.553835\n"
     ]
    },
    {
     "name": "stderr",
     "output_type": "stream",
     "text": [
      "\u001b[32m[I 2021-08-18 10:45:23,941]\u001b[0m Trial 1 finished with value: 0.7786843586479512 and parameters: {'n_estimators': 23}. Best is trial 0 with value: 0.850686887691557.\u001b[0m\n",
      "D:\\proProgrammes\\Anaconda\\lib\\site-packages\\lightgbm\\engine.py:148: UserWarning: Found `n_estimators` in params. Will use it instead of argument\n",
      "  _log_warning(\"Found `{}` in params. Will use it instead of argument\".format(alias))\n"
     ]
    },
    {
     "name": "stdout",
     "output_type": "stream",
     "text": [
      "[LightGBM] [Warning] Auto-choosing row-wise multi-threading, the overhead of testing was 0.004496 seconds.\n",
      "You can set `force_row_wise=true` to remove the overhead.\n",
      "And if memory is not enough, you can set `force_col_wise=true`.\n",
      "[LightGBM] [Info] Total Bins 3255\n",
      "[LightGBM] [Info] Number of data points in the train set: 354252, number of used features: 1463\n",
      "[LightGBM] [Info] Start training from score 13688.454027\n"
     ]
    },
    {
     "name": "stderr",
     "output_type": "stream",
     "text": [
      "\u001b[32m[I 2021-08-18 10:47:00,147]\u001b[0m Trial 2 finished with value: 0.9231526326029289 and parameters: {'n_estimators': 124}. Best is trial 2 with value: 0.9231526326029289.\u001b[0m\n",
      "D:\\proProgrammes\\Anaconda\\lib\\site-packages\\lightgbm\\engine.py:148: UserWarning: Found `n_estimators` in params. Will use it instead of argument\n",
      "  _log_warning(\"Found `{}` in params. Will use it instead of argument\".format(alias))\n"
     ]
    },
    {
     "name": "stdout",
     "output_type": "stream",
     "text": [
      "[LightGBM] [Warning] Auto-choosing col-wise multi-threading, the overhead of testing was 0.030377 seconds.\n",
      "You can set `force_col_wise=true` to remove the overhead.\n",
      "[LightGBM] [Info] Total Bins 3283\n",
      "[LightGBM] [Info] Number of data points in the train set: 354252, number of used features: 1477\n",
      "[LightGBM] [Info] Start training from score 13687.090136\n"
     ]
    },
    {
     "name": "stderr",
     "output_type": "stream",
     "text": [
      "\u001b[32m[I 2021-08-18 10:48:36,871]\u001b[0m Trial 3 finished with value: 0.9284901286592577 and parameters: {'n_estimators': 186}. Best is trial 3 with value: 0.9284901286592577.\u001b[0m\n",
      "D:\\proProgrammes\\Anaconda\\lib\\site-packages\\lightgbm\\engine.py:148: UserWarning: Found `n_estimators` in params. Will use it instead of argument\n",
      "  _log_warning(\"Found `{}` in params. Will use it instead of argument\".format(alias))\n"
     ]
    },
    {
     "name": "stdout",
     "output_type": "stream",
     "text": [
      "[LightGBM] [Warning] Auto-choosing row-wise multi-threading, the overhead of testing was 0.004297 seconds.\n",
      "You can set `force_row_wise=true` to remove the overhead.\n",
      "And if memory is not enough, you can set `force_col_wise=true`.\n",
      "[LightGBM] [Info] Total Bins 3267\n",
      "[LightGBM] [Info] Number of data points in the train set: 354252, number of used features: 1469\n",
      "[LightGBM] [Info] Start training from score 13700.433841\n"
     ]
    },
    {
     "name": "stderr",
     "output_type": "stream",
     "text": [
      "\u001b[32m[I 2021-08-18 10:50:13,781]\u001b[0m Trial 4 finished with value: 0.8894483989120062 and parameters: {'n_estimators': 72}. Best is trial 3 with value: 0.9284901286592577.\u001b[0m\n",
      "D:\\proProgrammes\\Anaconda\\lib\\site-packages\\lightgbm\\engine.py:148: UserWarning: Found `n_estimators` in params. Will use it instead of argument\n",
      "  _log_warning(\"Found `{}` in params. Will use it instead of argument\".format(alias))\n"
     ]
    },
    {
     "name": "stdout",
     "output_type": "stream",
     "text": [
      "[LightGBM] [Warning] Auto-choosing row-wise multi-threading, the overhead of testing was 0.004712 seconds.\n",
      "You can set `force_row_wise=true` to remove the overhead.\n",
      "And if memory is not enough, you can set `force_col_wise=true`.\n",
      "[LightGBM] [Info] Total Bins 3279\n",
      "[LightGBM] [Info] Number of data points in the train set: 354252, number of used features: 1475\n",
      "[LightGBM] [Info] Start training from score 13683.084736\n"
     ]
    },
    {
     "name": "stderr",
     "output_type": "stream",
     "text": [
      "\u001b[32m[I 2021-08-18 10:51:50,885]\u001b[0m Trial 5 finished with value: 0.9109601981134319 and parameters: {'n_estimators': 91}. Best is trial 3 with value: 0.9284901286592577.\u001b[0m\n",
      "D:\\proProgrammes\\Anaconda\\lib\\site-packages\\lightgbm\\engine.py:148: UserWarning: Found `n_estimators` in params. Will use it instead of argument\n",
      "  _log_warning(\"Found `{}` in params. Will use it instead of argument\".format(alias))\n"
     ]
    },
    {
     "name": "stdout",
     "output_type": "stream",
     "text": [
      "[LightGBM] [Warning] Auto-choosing row-wise multi-threading, the overhead of testing was 0.005866 seconds.\n",
      "You can set `force_row_wise=true` to remove the overhead.\n",
      "And if memory is not enough, you can set `force_col_wise=true`.\n",
      "[LightGBM] [Info] Total Bins 3289\n",
      "[LightGBM] [Info] Number of data points in the train set: 354252, number of used features: 1480\n",
      "[LightGBM] [Info] Start training from score 13686.416822\n"
     ]
    },
    {
     "name": "stderr",
     "output_type": "stream",
     "text": [
      "\u001b[32m[I 2021-08-18 10:53:07,260]\u001b[0m Trial 6 finished with value: 0.7872567816037058 and parameters: {'n_estimators': 24}. Best is trial 3 with value: 0.9284901286592577.\u001b[0m\n",
      "D:\\proProgrammes\\Anaconda\\lib\\site-packages\\lightgbm\\engine.py:148: UserWarning: Found `n_estimators` in params. Will use it instead of argument\n",
      "  _log_warning(\"Found `{}` in params. Will use it instead of argument\".format(alias))\n"
     ]
    },
    {
     "name": "stdout",
     "output_type": "stream",
     "text": [
      "[LightGBM] [Warning] Auto-choosing row-wise multi-threading, the overhead of testing was 0.005098 seconds.\n",
      "You can set `force_row_wise=true` to remove the overhead.\n",
      "And if memory is not enough, you can set `force_col_wise=true`.\n",
      "[LightGBM] [Info] Total Bins 3277\n",
      "[LightGBM] [Info] Number of data points in the train set: 354252, number of used features: 1474\n",
      "[LightGBM] [Info] Start training from score 13687.884142\n"
     ]
    },
    {
     "name": "stderr",
     "output_type": "stream",
     "text": [
      "\u001b[32m[I 2021-08-18 10:54:31,890]\u001b[0m Trial 7 finished with value: 0.8949321321053733 and parameters: {'n_estimators': 69}. Best is trial 3 with value: 0.9284901286592577.\u001b[0m\n",
      "D:\\proProgrammes\\Anaconda\\lib\\site-packages\\lightgbm\\engine.py:148: UserWarning: Found `n_estimators` in params. Will use it instead of argument\n",
      "  _log_warning(\"Found `{}` in params. Will use it instead of argument\".format(alias))\n"
     ]
    },
    {
     "name": "stdout",
     "output_type": "stream",
     "text": [
      "[LightGBM] [Warning] Auto-choosing col-wise multi-threading, the overhead of testing was 0.029763 seconds.\n",
      "You can set `force_col_wise=true` to remove the overhead.\n",
      "[LightGBM] [Info] Total Bins 3291\n",
      "[LightGBM] [Info] Number of data points in the train set: 354252, number of used features: 1481\n",
      "[LightGBM] [Info] Start training from score 13692.837472\n"
     ]
    },
    {
     "name": "stderr",
     "output_type": "stream",
     "text": [
      "\u001b[32m[I 2021-08-18 10:55:53,171]\u001b[0m Trial 8 finished with value: 0.9360829514734793 and parameters: {'n_estimators': 180}. Best is trial 8 with value: 0.9360829514734793.\u001b[0m\n",
      "D:\\proProgrammes\\Anaconda\\lib\\site-packages\\lightgbm\\engine.py:148: UserWarning: Found `n_estimators` in params. Will use it instead of argument\n",
      "  _log_warning(\"Found `{}` in params. Will use it instead of argument\".format(alias))\n"
     ]
    },
    {
     "name": "stdout",
     "output_type": "stream",
     "text": [
      "[LightGBM] [Warning] Auto-choosing col-wise multi-threading, the overhead of testing was 0.023364 seconds.\n",
      "You can set `force_col_wise=true` to remove the overhead.\n",
      "[LightGBM] [Info] Total Bins 3273\n",
      "[LightGBM] [Info] Number of data points in the train set: 354252, number of used features: 1472\n",
      "[LightGBM] [Info] Start training from score 13690.449028\n"
     ]
    },
    {
     "name": "stderr",
     "output_type": "stream",
     "text": [
      "\u001b[32m[I 2021-08-18 10:57:17,945]\u001b[0m Trial 9 finished with value: 0.8822771307083674 and parameters: {'n_estimators': 59}. Best is trial 8 with value: 0.9360829514734793.\u001b[0m\n"
     ]
    },
    {
     "name": "stdout",
     "output_type": "stream",
     "text": [
      "Number of finished trials: 10\n",
      "Best trial:\n",
      "  Value: 0.9360829514734793\n",
      "  Params: \n",
      "    n_estimators: 180\n"
     ]
    }
   ],
   "source": [
    "study = optuna.create_study(direction=\"maximize\")\r\n",
    "study.optimize(objective, n_trials=10)\r\n",
    "print(\"Number of finished trials: {}\".format(len(study.trials)))\r\n",
    "\r\n",
    "print(\"Best trial:\")\r\n",
    "trial = study.best_trial\r\n",
    "\r\n",
    "print(\"  Value: {}\".format(trial.value))\r\n",
    "\r\n",
    "print(\"  Params: \")\r\n",
    "for key, value in trial.params.items():\r\n",
    "    print(\"    {}: {}\".format(key, value))"
   ]
  },
  {
   "cell_type": "code",
   "execution_count": 25,
   "metadata": {},
   "outputs": [
    {
     "name": "stdout",
     "output_type": "stream",
     "text": [
      "0.9379841747670348\n"
     ]
    }
   ],
   "source": [
    "# one of the best params the optuna computed is 198\r\n",
    "train_x, valid_x, train_y, valid_y = train_test_split(X_df.values, y_df.values,\r\n",
    "                                                      test_size=0.25,random_state=100)\r\n",
    "lgb_clf = lgb.LGBMRegressor(n_estimators=198)\r\n",
    "lgb_clf.fit(train_x,train_y)\r\n",
    "print(lgb_clf.score(valid_x,valid_y))\r\n"
   ]
  },
  {
   "cell_type": "code",
   "execution_count": 26,
   "metadata": {},
   "outputs": [
    {
     "data": {
      "image/png": "[encoded data removed]",
      "text/plain": [
       "<Figure size 720x360 with 1 Axes>"
      ]
     },
     "metadata": {},
     "output_type": "display_data"
    }
   ],
   "source": [
    "#inspiration by https://www.kaggle.com/aleksandradeis/airbnb-seattle-reservation-prices-analysis#Machine-Learning\r\n",
    "headers = [\"name\", \"score\"]\r\n",
    "values = sorted(zip(X_df, lgb_clf.feature_importances_), key=lambda x: x[1] * -1)\r\n",
    "forest_feature_importances = pd.DataFrame(values, columns = headers)\r\n",
    "forest_feature_importances = forest_feature_importances.sort_values(by = ['score'], ascending = False)\r\n",
    "\r\n",
    "features = forest_feature_importances['name'][:20]\r\n",
    "y_pos = np.arange(len(features))\r\n",
    "scores = forest_feature_importances['score'][:20]\r\n",
    "\r\n",
    "#plot feature importances\r\n",
    "plt.figure(figsize=(10,5))\r\n",
    "plt.bar(y_pos, scores, align='center', alpha=0.5)\r\n",
    "plt.xticks(y_pos, features, rotation='vertical')\r\n",
    "plt.ylabel('Score')\r\n",
    "plt.xlabel('Features')\r\n",
    "plt.title('Feature importances (LightGBM)') \r\n",
    "plt.show()"
   ]
  },
  {
   "cell_type": "markdown",
   "metadata": {},
   "source": [
    "## Conclusion\n",
    "\n",
    "In this analysis we tried to understand what influences used car 's selling price. We delete `valuation` from explained features, since it is a evaluated feature by business company. Alternatively, we tried to use basic info of a car to do a predict. The model has a similar `r2_score` with `valuation` and suggested `model_year`,`odometer`,`condition`  are the 3 features contributes most to the model.\n",
    "\n",
    "Hope the predication is helpful to people who want to sell their cars!"
   ]
  },
  {
   "cell_type": "code",
   "execution_count": null,
   "metadata": {},
   "outputs": [],
   "source": []
  }
 ],
 "metadata": {
  "interpreter": {
   "hash": "9d579240d9b61d6fcc238235d6e0fff24f9de27b80389e364606acf4b80cd548"
  },
  "kernelspec": {
   "display_name": "Python 3",
   "language": "python",
   "name": "python3"
  },
  "language_info": {
   "codemirror_mode": {
    "name": "ipython",
    "version": 3
   },
   "file_extension": ".py",
   "mimetype": "text/x-python",
   "name": "python",
   "nbconvert_exporter": "python",
   "pygments_lexer": "ipython3",
   "version": "3.8.8"
  }
 },
 "nbformat": 4,
 "nbformat_minor": 4
}
